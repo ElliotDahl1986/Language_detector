{
 "cells": [
  {
   "cell_type": "markdown",
   "metadata": {},
   "source": [
    "# Building a language detector\n",
    "\n",
    "In this project I use [European Parliament Proceedings Parallel Corpus](http://www.statmt.org/europarl/) which is a text dataset used for evaluating language detection engines. The 1.5GB corpus includes 21 languages spoken in EU. \n",
    "\n",
    "The Europarl parallel corpus is extracted from the proceedings of the European Parliament. It includes versions in 21 European languages: Romanic (French, Italian, Spanish, Portuguese, Romanian), Germanic (English, Dutch, German, Danish, Swedish), Slavik (Bulgarian, Czech, Polish, Slovak, Slovene), Finni-Ugric (Finnish, Hungarian, Estonian), Baltic (Latvian, Lithuanian), and Greek.\n",
    "\n",
    "All formats contain document $(<$CHAPTER id$>)$, speaker $(<$SPEAKER id name language$>)$, and paragraph $(<$P$>)$ mark-up on a separate line. The data is stored in one file per day, and in smaller units for newer data."
   ]
  },
  {
   "cell_type": "markdown",
   "metadata": {},
   "source": [
    "###  Script initialization"
   ]
  },
  {
   "cell_type": "code",
   "execution_count": 139,
   "metadata": {},
   "outputs": [],
   "source": [
    "import numpy as np\n",
    "import pandas as pd\n",
    "\n",
    "import matplotlib.pyplot as plt\n",
    "import seaborn as sns\n",
    "%matplotlib inline\n",
    "\n",
    "import glob\n",
    "import re\n",
    "import csv"
   ]
  },
  {
   "cell_type": "code",
   "execution_count": 140,
   "metadata": {},
   "outputs": [
    {
     "name": "stdout",
     "output_type": "stream",
     "text": [
      "Python:  3.6.3 |Anaconda custom (64-bit)| (default, Oct  6 2017, 12:04:38) \n",
      "         [GCC 4.2.1 Compatible Clang 4.0.1 (tags/RELEASE_401/final)]\n",
      "Pandas:  0.20.3\n",
      "Numpy:   1.13.3\n",
      "Sklearn: 0.19.1\n"
     ]
    }
   ],
   "source": [
    "import sys, sklearn\n",
    "print('Python:  ' + sys.version.split('\\n')[0])\n",
    "print('         ' + sys.version.split('\\n')[1])\n",
    "print('Pandas:  ' + pd.__version__)\n",
    "print('Numpy:   ' + np.__version__)\n",
    "print('Sklearn: ' + sklearn.__version__)"
   ]
  },
  {
   "cell_type": "markdown",
   "metadata": {},
   "source": [
    "### Read files"
   ]
  },
  {
   "cell_type": "code",
   "execution_count": 217,
   "metadata": {
    "collapsed": true
   },
   "outputs": [],
   "source": [
    "def read_lang_files(path):\n",
    "    \"\"\" Returns a list with all the files read \"\"\"\n",
    "    lang_list = []\n",
    "    all_files = glob.glob(path)\n",
    "    \n",
    "    for file in all_files:\n",
    "        file_txt = open(file,\"r\",errors='ignore')\n",
    "        file_read = file_txt.read()\n",
    "        if file_read != '':\n",
    "            lang_list.append(file_read)\n",
    "            file_txt.close()\n",
    "        \n",
    "    return lang_list"
   ]
  },
  {
   "cell_type": "code",
   "execution_count": 142,
   "metadata": {
    "collapsed": true
   },
   "outputs": [],
   "source": [
    "# All the countries existing in the European data set\n",
    "countries = ['bg','cs','da','de','el','en','es','et','fi','fr','hu',\n",
    "             'it','lt','lv','nl','pl','pt','ro','sk','sl','sv']"
   ]
  },
  {
   "cell_type": "code",
   "execution_count": 144,
   "metadata": {
    "scrolled": false
   },
   "outputs": [],
   "source": [
    "#import all the language texts\n",
    "bg = read_lang_files('./txt/bg/*.txt')\n",
    "cs = read_lang_files('./txt/cs/*.txt')\n",
    "da = read_lang_files('./txt/da/*.txt')\n",
    "de = read_lang_files('./txt/de/*.txt')\n",
    "el = read_lang_files('./txt/el/*.txt')\n",
    "en = read_lang_files('./txt/en/*.txt')\n",
    "es = read_lang_files('./txt/es/*.txt')\n",
    "et = read_lang_files('./txt/et/*.txt')\n",
    "fi = read_lang_files('./txt/fi/*.txt')\n",
    "fr = read_lang_files('./txt/fr/*.txt')\n",
    "hu = read_lang_files('./txt/hu/*.txt')\n",
    "it = read_lang_files('./txt/it/*.txt')\n",
    "lt = read_lang_files('./txt/lt/*.txt')\n",
    "lv = read_lang_files('./txt/lv/*.txt')\n",
    "nl = read_lang_files('./txt/nl/*.txt')\n",
    "pl = read_lang_files('./txt/pl/*.txt')\n",
    "pt = read_lang_files('./txt/pt/*.txt')\n",
    "ro = read_lang_files('./txt/ro/*.txt')\n",
    "sk = read_lang_files('./txt/sk/*.txt')\n",
    "sl = read_lang_files('./txt/sl/*.txt')\n",
    "sv = read_lang_files('./txt/sv/*.txt')\n",
    "\n",
    "country_data = [bg,cs,da,de,el,en,es,et,fi,fr,hu,it,lt,lv,nl,pl,pt,ro,sk,sl,sv]"
   ]
  },
  {
   "cell_type": "markdown",
   "metadata": {},
   "source": [
    "### Raw data "
   ]
  },
  {
   "cell_type": "code",
   "execution_count": 145,
   "metadata": {},
   "outputs": [
    {
     "name": "stdout",
     "output_type": "stream",
     "text": [
      "bg example: \n",
      "<CHAPTER ID=\"009-06\">\n",
      "6. Новаторско финансиране на световно и европейско равнище (\n",
      "<SPEAKER ID=\"141\" NAME=\"Jean-Paul Gauzès\" AFFILIATION=\"PPE\">\n",
      "(FR) Г-жо председател, съжалявам, че има известно объркване в доклада на г-жа Podimata, който повдига редица важни въпроси относно новаторското финансиране. Призовавам групата на Прогресивния алианс на социалистите и демократите в Европейския парламент да оттегли алтернативното предложение, което внесе, за да приключи свършената съвместна работа.\n",
      "<P>\n",
      "Второ, съжалявам, че се появи малко изкуствено противопоставяне по въпроса за данък върху финансовите операции и че има две много подобни изменения. Съжалявам, че в резултат на това Парламентът не може да изрази категорична подкрепа за този данък при условия, които са разумни по отношение на конкурентоспособността на Европа.\n",
      "<SPEAKER ID=\"142\" NAME=\"Martin Schulz\" AFFILIATION=\"S&amp;D\">\n",
      "(DE) Г-жо председател, мога да кажа на г-н Gauzès следното: да, възнамеряваме да оттеглим проекта на алтернативна резолюция. Препоръчах го на моята група поради една много проста причина: следващото изменение, подписано от 120 колеги от всички групи, показва, че предложенията относно данък върху финансовите операции не са запазена марка на която и да е група, независимо дали социалистите, консерваторите, групата на Европейската народна партия (Християндемократи) или групата на Зелените/Европейски свободен алианс. Въпросът е, че правим институционално предложение и изпращаме институционално послание, че залата е в състояние да каже на междупартийна основа: \"Искаме частният сектор да поеме своя дял в преодоляването на бремето от кризата\". Това не е искане на социалистите или на групата на Европейската народна партия (Християндемократи), а нашето общо желание. Ако успеем да го изразим днес на институционална основа, това ще бъде голям успех за Европейския парламент. Ето защо оттегляме предложението.\n",
      "<P>\n",
      "(Ръкопляскания)\n",
      "<SPEAKER ID=\"143\" NAME=\"Rodi Kratsa-Tsagaropoulou\" AFFILIATION=\"PPE\">\n",
      "(EL) Г-жо председател, вчера групата на Европейската народна партия (Християндемократи) представи друго предложение, което би могло да представлява компромис. То беше следното: може ли да стане ясно, че средствата ще бъдат насочени към бюджета на ЕС и механизма за подкрепа? Внесохме темата за обсъждане вчера и очакваме отговор, за да можем да постигнем компромис и да изпратим положително послание към институциите на ЕС.\n",
      "\n",
      "\n",
      "\n",
      "cs example: \n",
      "<CHAPTER ID=\"009-06\">\n",
      "6. Inovativní financování na globální a evropské úrovni (\n",
      "<SPEAKER ID=\"141\" NAME=\"Jean-Paul Gauzès\" AFFILIATION=\"PPE\">\n",
      "(FR) Paní předsedající, lituji jistých nepřesností ve zprávě paní Podimataové, která nastoluje řadu důležitých otázek ohledně inovativního financování. Chtěl bych požádat skupinu Pokrokové aliance socialistů a demokratů v Evropském parlamentu, aby stáhla alternativní návrh, který předložila, aby bylo možné dokončit započatou společnou práci na návrhu.\n",
      "<P>\n",
      "Za druhé lituji mírně umělého nesouhlasu v otázce daně z finančních transakcí a toho, že zde jsou dva velmi podobné pozměňovací návrhy. Lituji, že v důsledku toho nemůže Parlament vyjádřit svou naprostou podporu této dani za podmínek přiměřených s ohledem na konkurenceschopnost Evropy.\n",
      "<SPEAKER ID=\"142\" NAME=\"Martin Schulz\" AFFILIATION=\"S&amp;D\">\n",
      "(DE) Paní předsedající, panu Gauzèsovi mohu říci: ano, hodláme stáhnout tento návrh alternativního řešení. Doporučil jsem to své skupině z velmi prostého důvodu: následující pozměňovací návrh, který podepsalo 120 poslanců ze všech skupin, ukazuje, že návrhy ohledně daně z finančních transakcí nejsou výsadou žádné skupiny, ať socialistů, konzervativců, skupiny Evropské lidové strany (Křesťanských demokratů) nebo skupiny Zelených/Evropské svobodné aliance. Jde o to, že předkládáme institucionální návrh a vysíláme institucionální signál, že tato sněmovna je schopna napříč stranami říci: \"Chceme, aby soukromý sektor platil svůj podíl na řešení břemene krize.\" To není socialistický požadavek nebo požadavek skupiny PPE; je to naše společné přání. Pokud se nám podaří to dnes vyjádřit na institucionální úrovni, bude to velký úspěch pro Evropský parlament. Proto tento návrh stahujeme.\n",
      "<P>\n",
      "(Potlesk)\n",
      "<SPEAKER ID=\"143\" NAME=\"Rodi Kratsa-Tsagaropoulou\" AFFILIATION=\"PPE\">\n",
      "(EL) Paní předsedající, včera v plénu skupina Evropské lidové strany (Křesťanských demokratů) předložila další návrh, který by mohl představovat kompromis. Zněl takto: bylo by možné vyjasnit, že zdroje budou směrovány do rozpočtu EU a podpůrného mechanismu? Předložili jsme toto téma k rozpravě včera a čekáme na odpověď, abychom mohli dosáhnout kompromisu a vyslat pozitivní vzkaz orgánům EU.\n",
      "\n",
      "\n",
      "\n",
      "da example: \n",
      "<CHAPTER ID=\"009-06\">\n",
      "6. Innovativ finansiering på globalt og europæisk plan (\n",
      "<SPEAKER ID=\"141\" NAME=\"Jean-Paul Gauzès\" AFFILIATION=\"PPE\">\n",
      "(FR) Fru formand! Jeg beklager, at der er en vis forvirring i denne betænkning af fru Podimata, som rejser en række vigtige aspekter af innovativ finansiering. Jeg vil gerne bede Gruppen for Det Progressive Forbund af Socialdemokrater i Parlamentet om at trække deres alternative forslag tilbage, så vi kan afslutte det fælles arbejde med udkastet.\n",
      "<P>\n",
      "For det andet beklager jeg, at der er skabt en lidt kunstig modsætning vedrørende spørgsmålet om en skat på finansielle transaktioner, og at der er to meget enslydende ændringsforslag. Jeg beklager, at Parlamentet af den grund ikke kan udtrykke overvældende støtte til denne skat under forhold, der er rimelige med hensyn til Europas konkurrenceevne.\n",
      "<SPEAKER ID=\"142\" NAME=\"Martin Schulz\" AFFILIATION=\"S&amp;D\">\n",
      "(DE) Fru formand! Jeg kan sige følgende til hr. Gauzès: Ja, vi agter at trække forslaget til alternativ beslutning tilbage. Det anbefalede jeg min gruppe af en meget enkel grund, nemlig at følgende ændringsforslag, der er underskrevet af 120 medlemmer fra alle grupper, viser, at forslagene vedrørende en skat på finansielle transaktioner ikke er forbeholdt en bestemt gruppe, uanset om det er Socialisterne, de Konservative, Det Europæiske Folkepartis Gruppe (Kristelige Demokrater) eller Gruppen De Grønne/Den Europæiske Fri Alliance. Sagen er, at vi stiller et institutionelt forslag og sender et institutionelt signal om, at Parlamentet på tværs af partier og grupper kan sige, at vi ønsker, at den private sektor betaler sin andel af håndteringen af krisens byrde. Det er ikke et krav fra Socialdemokraterne eller PPE-Gruppen, det er vores fælles ønske. Hvis det lykkes os at sende dette signal i dag på et institutionelt grundlag, er det en stor succes for Parlamentet. Derfor trækker vi vores forslag tilbage.\n",
      "<P>\n",
      "(Bifald)\n",
      "<SPEAKER ID=\"143\" NAME=\"Rodi Kratsa-Tsagaropoulou\" AFFILIATION=\"PPE\">\n",
      "(EL) Fru formand! I går fremsatte Det Europæiske Folkepartis Gruppe (Kristelige Demokrater) et andet forslag her i salen, som også kan være et kompromis. Det var, om det kan gøres klart, at der vil blive kanaliseret ressourcer til EU's budget og støttemekanismen? Vi fremsatte forslaget under forhandlingen i går, og vi venter på et svar, så vi kan nå frem til et kompromis og sende et positivt budskab til EU's institutioner.\n",
      "\n",
      "\n",
      "\n",
      "de example: \n",
      "<CHAPTER ID=\"009-06\">\n",
      "6. Innovative Finanzierung auf globaler und europäischer Ebene (\n",
      "<SPEAKER ID=\"141\" NAME=\"Jean-Paul Gauzès\" AFFILIATION=\"PPE\">\n",
      "(FR) Frau Präsidentin, ich bedauere, dass es etwas Verwirrung gibt in diesem Bericht von Frau Podimata, der eine Reihe von wichtigen Fragen zum Thema der innovativen Finanzierungsinstrumente aufwirft. Ich möchte die Fraktion der Progressiven Allianz der Sozialisten & Demokraten im Europäischen Parlament bitten, den von ihr vorgelegten alternativen Entschließungsantrag zurückzuziehen, sodass die gemeinsame Ausarbeitung, die begonnen wurde, abgeschlossen werden kann.\n",
      "<P>\n",
      "Zweitens bedauere ich, dass sich zu dem Thema der Besteuerung von Finanztransaktionen eine etwas künstliche Opposition gebildet hat, und dass es dazu zwei sehr ähnliche Änderungsanträge gibt. Ich bedauere, dass das Parlament demzufolge nicht in der Lage ist, seine überwältigende Zustimmung für diese Steuer unter Bedingungen auszudrücken, die im Hinblick auf die europäische Wettbewerbsfähigkeit angemessen sind.\n",
      "<SPEAKER ID=\"142\" NAME=\"Martin Schulz\" AFFILIATION=\"S&amp;D\">\n",
      "Frau Präsidentin! Ich kann dem Kollegen Gauzès sagen: Ja, wir werden diesen Entwurf einer alternativen Entschließung zurückziehen. Ich habe meiner Fraktion aus einem ganz einfachen Grund empfohlen, das zu tun: Der folgende Änderungsantrag, den 120 Kolleginnen und Kollegen aus allen Fraktionen unterzeichnet haben, zeigt, dass es bei der Diskussion über eine Finanztransaktionssteuer nicht um einen sozialistischen oder einen konservativen oder einen EVP- oder einen Grünen-Vorschlag geht. Es geht darum, dass wir einen institutionellen Vorschlag machen, ein institutionelles Signal setzen, dass dieses Haus über die Grenzen der Fraktionen hinweg in der Lage ist zu sagen: \"Wir wollen, dass der privatwirtschaftliche Sektor seinen Anteil an der Bewältigung der Krisenlasten trägt.\" Das ist nichts Sozialistisches, das ist nicht EVP, das ist unser gemeinsamer Wille. Wenn wir das heute institutionell zum Ausdruck bringen wollen, dann ist das ein großer Erfolg für das Europäische Parlament. Deshalb ziehen wir diesen Antrag zurück.\n",
      "<P>\n",
      "(Beifall)\n",
      "<SPEAKER ID=\"143\" NAME=\"Rodi Kratsa-Tsagaropoulou\" AFFILIATION=\"PPE\">\n",
      "(EL) Frau Präsidentin! In der gestrigen Plenarsitzung hat die Fraktion der Europäischen Volkspartei (Christdemokraten) einen weiteren Vorschlag vorgelegt, der vielleicht als Kompromiss dienen kann. Er lautet: Ist es möglich, klarzustellen, dass die Ressourcen in den EU-Haushaltsplan und in den Stabilitätsmechanismus einfließen? Wir haben dieses Thema gestern in die Aussprache eingebracht und warten im Moment auf eine Antwort, sodass wir zu einem Kompromiss kommen und den Gemeinschaftsorganen ein positives Signal senden können.\n",
      "\n",
      "\n",
      "\n",
      "el example: \n",
      "<CHAPTER ID=\"009-06\">\n",
      "6. Καινοτόμος χρηματοδότηση σε παγκόσμιο και ευρωπαϊκό επίπεδο (\n",
      "<SPEAKER ID=\"141\" NAME=\"Jean-Paul Gauzès\" AFFILIATION=\"PPE\">\n",
      "(FR) Κυρία Πρόεδρε, λυπούμαι για το γεγονός ότι υπάρχει σύγχυση στην εν λόγω έκθεση της κ. Ποδηματά, η οποία θέτει μια σειρά σημαντικών ζητημάτων όσον αφορά την καινοτόμο χρηματοδότηση. Θα ήθελα να ζητήσω από την Ομάδα της Προοδευτικής Συμμαχίας των Σοσιαλιστών και Δημοκρατών στο Ευρωπαϊκό Κοινοβούλιο να αποσύρει την εναλλακτική πρόταση που κατέθεσε, ούτως ώστε να μπορέσει να ολοκληρωθεί το κοινό σχέδιο εργασίας που έχει συνταχθεί.\n",
      "<P>\n",
      "Δεύτερον, λυπούμαι για το γεγονός ότι έχει προκύψει μια κάπως επίπλαστη εναντίωση όσον αφορά το θέμα της επιβολής φόρου επί των χρηματοπιστωτικών συναλλαγών και για το γεγονός ότι υπάρχουν δύο παρόμοιες τροπολογίες. Ως εκ τούτου, με θλίβει το γεγονός ότι το Κοινοβούλιο δεν μπορεί να εκφράσει την πλήρη στήριξή του στον εν λόγω φόρο με όρους λογικούς όσον αφορά την ανταγωνιστικότητα της Ευρώπης.\n",
      "<SPEAKER ID=\"142\" NAME=\"Martin Schulz\" AFFILIATION=\"S&amp;D\">\n",
      "(DE) Κυρία Πρόεδρε, είμαι σε θέση να πω στον κ. Gauzès το εξής: ναι, σκοπεύουμε να αποσύρουμε αυτό το σχέδιο εναλλακτικού ψηφίσματος. Το πρότεινα στην Ομάδα μου για έναν πολύ απλό λόγο: η τροπολογία που ακολουθεί, η οποία υπογράφηκε από 120 βουλευτές όλων των Ομάδων, αποδεικνύει ότι οι προτάσεις που αφορούν την επιβολή φόρου επί των χρηματοπιστωτικών συναλλαγών δεν αποτελούν αποκλειστικό τομέα ενδιαφέροντος καμίας Ομάδας· ούτε των Σοσιαλιστών, ούτε των Συντηρητικών, ούτε της Ομάδας του Ευρωπαϊκού Λαϊκού Κόμματος (Χριστιανοδημοκράτες) ούτε της Ομάδας των Πρασίνων/Ευρωπαϊκή Ελεύθερη Συμμαχία. Το θέμα είναι ότι κάνουμε μια θεσμική πρόταση και στέλνουμε ένα θεσμικό μήνυμα που το Σώμα αυτό είναι σε θέση να απευθύνει σε διακομματική βάση: \"Θέλουμε ο ιδιωτικός τομέας να επωμιστεί το μερίδιο που του αναλογεί όσον αφορά το φορτίο της κρίσης\". Δεν πρόκειται για σοσιαλιστική απαίτηση ή για απαίτηση της Ομάδας PPE· είναι κοινή επιθυμία μας. Εάν καταφέρουμε να το εκφράσουμε αυτό σήμερα σε θεσμική βάση, θα αποτελέσει σημαντικότατη επιτυχία για το Ευρωπαϊκό Κοινοβούλιο. Για τον λόγο αυτόν, αποσύρουμε την εν λόγω πρόταση.\n",
      "<P>\n",
      "(Χειροκροτήματα)\n",
      "<SPEAKER ID=\"143\" NAME=\"Ρόδη Κράτσα-Τσαγκαροπούλου\" AFFILIATION=\"PPE\">\n",
      "Κυρία Πρόεδρε, χθες στην Ολομέλεια προωθήσαμε, από την πλευρά του Ευρωπαϊκού Λαϊκού Κόμματος, και μια άλλη πρόταση η οποία θα μπορούσε να αποτελέσει συμβιβασμό: αν θα μπορούσε δηλαδή να καταστεί σαφές ότι οι πόροι θα κατευθυνθούν στον κοινοτικό προϋπολογισμό και στον μηχανισμό στήριξης. Θέσαμε εχθές το θέμα προς συζήτηση και περιμένουμε την απάντηση για να καταλήξουμε σε συμβιβασμό και να στείλουμε ένα θετικό μήνυμα προς τα κοινοτικά όργανα.\n",
      "\n",
      "\n",
      "\n",
      "en example: \n",
      "<CHAPTER ID=\"009-06\">\n",
      "6. Innovative financing at a global and European level (\n",
      "<SPEAKER ID=\"141\" NAME=\"Jean-Paul Gauzès\" AFFILIATION=\"PPE\">\n",
      "(FR) Madam President, I regret that there is some confusion in this report by Mrs Podimata, which raises a number of important issues with regard to innovative financing. I would like to ask the Group of the Progressive Alliance of Socialists and Democrats in the European Parliament to withdraw the alternative motion it has tabled so that the joint drafting work that has been carried out can be concluded.\n",
      "<P>\n",
      "Secondly, I regret that a slightly artificial opposition has emerged on the issue of a tax on financial transactions and that there are two very similar amendments. I regret that, as a result, Parliament cannot express its overwhelming support for this tax in conditions that are reasonable with regard to Europe's competitiveness.\n",
      "<SPEAKER ID=\"142\" NAME=\"Martin Schulz\" AFFILIATION=\"S&amp;D\">\n",
      "(DE) Madam President, I can tell Mr Gauzès this: yes, we intend withdrawing this draft for an alternative resolution. I recommended this to my group for a very simple reason: The following amendment, which has been signed by 120 Members from all groups, shows that proposals regarding a financial transaction tax are not the preserve of any one group, whether the socialists, conservatives, the Group of the European People's Party (Christian Democrats) or the Group of the Greens/European Free Alliance. The point is that we are making an institutional proposal and issuing an institutional signal that this House is capable of saying on a cross-party basis: 'We want the private sector to pay its share in dealing with the burden of the crisis'. This is not a socialist demand, or a PPE Group demand; it is our common wish. If we manage to express this today on an institutional basis, then this will be a major success for the European Parliament. This is why we are withdrawing this motion.\n",
      "<P>\n",
      "(Applause)\n",
      "<SPEAKER ID=\"143\" NAME=\"Rodi Kratsa-Tsagaropoulou\" AFFILIATION=\"PPE\">\n",
      "(EL) Madam President, yesterday in plenary, the Group of the European People's Party (Christian Democrats) put forward another proposal which could constitute a compromise. It was: could it be made clear that resources will be channelled to the EU budget and the support mechanism? We tabled the subject for debate yesterday and we are waiting for a reply, so that we can reach a compromise and send a positive message to the EU institutions.\n",
      "\n",
      "\n",
      "\n",
      "es example: \n",
      "<CHAPTER ID=\"009-06\">\n",
      "6. Financiación innovadora a escala mundial y europea (\n",
      "<SPEAKER ID=\"141\" NAME=\"Jean-Paul Gauzès\" AFFILIATION=\"PPE\">\n",
      "(FR) Señora Presidenta, lamento que haya una cierta confusión en este informe de la señora Podimata, que plantea una serie de cuestiones importantes en materia de financiación innovadora. Pido al Grupo de la Alianza Progresista de Socialistas y Demócratas en el Parlamento Europeo que retire la propuesta alternativa que ha presentado, de manera que pueda concluirse la tarea de redacción conjunta que se ha realizado.\n",
      "<P>\n",
      "En segundo lugar, lamento que haya emergido una oposición un tanto artificial en torno a la cuestión de un impuesto sobre las transacciones financieras y que haya dos enmiendas muy similares. Lamento que, como resultado, el Parlamento no pueda expresar su apoyo abrumador a este impuesto en las condiciones que sean razonables con respecto a la competitividad de Europa.\n",
      "<SPEAKER ID=\"142\" NAME=\"Martin Schulz\" AFFILIATION=\"S&amp;D\">\n",
      "(DE) Señora Presidenta, puedo decirle al señor Gauzès lo siguiente: sí, tenemos la intención de retirar ese proyecto de resolución alternativa. He recomendado esa opción a mi Grupo por un motivo muy sencillo: la siguiente enmienda, firmada por 120 diputados de todos los grupos, muestra que las propuestas en relación con un impuesto sobre las transacciones financieras no son exclusivas de un solo grupo, sean los socialistas, los conservadores, el Grupo del Partido Popular Europeo (Demócrata-cristianos) o el Grupo de los Verdes/Alianza Libre Europea. Lo importante es que estamos formulando una propuesta institucional y enviando una señal institucional en el sentido de que esta Cámara puede afirmar, sobre una base transversal a todos los partidos, lo siguiente: \"queremos que el sector privado ponga su parte para hacer frente a las cargas de la crisis\". Ello no es una demanda socialista ni del Grupo PPE: es nuestro deseo común. Si somos capaces de expresar hoy esta idea sobre una base institucional, será un gran éxito para el Parlamento Europeo. Por ello vamos a retirar esa propuesta.\n",
      "<P>\n",
      "(Aplausos)\n",
      "<SPEAKER ID=\"143\" NAME=\"Rodi Kratsa-Tsagaropoulou\" AFFILIATION=\"PPE\">\n",
      "(EL) Señora Presidenta, ayer, en sesión plenaria, el Grupo del Partido Popular Europeo (Demócrata-cristianos) presentó otra propuesta que podría constituir un compromiso. Era la siguiente: ¿Podría quedar claro que los recursos se canalizarán al presupuesto de la UE y el mecanismo de apoyo? Ayer presentamos la cuestión para debatir y estamos esperando una respuesta, de manera que podamos alcanzar un compromiso y enviar un mensaje positivo a las instituciones de la UE.\n",
      "\n",
      "\n",
      "\n",
      "et example: \n",
      "<CHAPTER ID=\"009-06\">\n",
      "6. Innovatiivne rahastamine maailmas ja Euroopas (\n",
      "<SPEAKER ID=\"141\" NAME=\"Jean-Paul Gauzès\" AFFILIATION=\"PPE\">\n",
      "(FR) Austatud juhataja! Mul on kahju, et selle Anni Podimata raportiga on mingi segadus, sest selles raportis tõstatatakse seoses uuendusliku rahastamisega mitu tähtsat küsimust. Tahaksin paluda, et Sotsiaaldemokraatide ja demokraatide fraktsioon Euroopa Parlamendis võtaks oma esitatud alternatiivse ettepaneku tagasi, et oleks võimalik lõpule viia töö, mis on resolutsiooni koostamisel seni ühiselt tehtud.\n",
      "<P>\n",
      "Teiseks on mul kahju sellest, et finantstehingute maksu puhul on tekkinud pisut kunstlik opositsioon ja et esitatud on kaks väga sarnast muudatusettepanekut. Selle tulemusel ei saa Euroopa Parlament kahjuks väljendada sellele maksule oma väga suurt toetust tingimustes, mis on Euroopa konkurentsivõime seisukohast mõistlikud.\n",
      "<SPEAKER ID=\"142\" NAME=\"Martin Schulz\" AFFILIATION=\"S&amp;D\">\n",
      "(DE) Austatud juhataja! Võin öelda Jean-Paul Gauzèsile üht: meil on tõepoolest kavas see alternatiivse resolutsiooni ettepanek tagasi võtta. Soovitasin seda oma fraktsioonile väga lihtsal põhjusel - järgnenud muudatusettepanek, millele on alla kirjutanud 120 parlamendiliiget kõikidest fraktsioonidest, näitab, et finantstehingute maksu puudutavad ettepanekud ei ole vaid ühe fraktsiooni pärusmaa, olgu tegemist sotsiaaldemokraatide, konservatiivide, Euroopa Rahvapartei (kristlike demokraatide) fraktsiooni või Roheliste / Euroopa Vabaliidu fraktsiooniga. Eesmärk on teha institutsiooniline ettepanek ja edastada institutsiooniline sõnum Euroopa Parlamendi võime kohta avaldada parteiüleselt soovi, et erasektor maksaks kriisikoormaga toimetulekul oma osa. See ei ole sotsiaaldemokraatide ega fraktsiooni PPE nõue, see on meie ühine soov. Kui me suudame seda täna institutsioonilisel tasandil väljendada, oleks see Euroopa Parlamendi jaoks suur saavutus. Seepärast võtame selle ettepaneku tagasi.\n",
      "<P>\n",
      "(Aplaus)\n",
      "<SPEAKER ID=\"143\" NAME=\"Rodi Kratsa-Tsagaropoulou\" AFFILIATION=\"PPE\">\n",
      "(EL) Austatud juhataja! Eile täiskogul esitas Euroopa Rahvapartei (kristlike demokraatide) fraktsioon ühe teise ettepaneku, milles võiks peituda kompromiss. Meie ettepanek oli, et äkki oleks võimalik selgeks teha, et ELi eelarvesse ja toetusmehhanismi suunatakse vahendeid. Me esitasime selle teema eile arutluseks ja me ootame vastust, et saaksime leida kompromissi ja edastada Euroopa Liidu institutsioonidele rõõmustava sõnumi.\n",
      "\n",
      "\n",
      "\n",
      "fi example: \n",
      "<CHAPTER ID=\"009-06\">\n",
      "6. Innovatiivinen rahoitus sekä maailmanlaajuisella että Euroopan tasolla (\n",
      "<SPEAKER ID=\"141\" NAME=\"Jean-Paul Gauzès\" AFFILIATION=\"PPE\">\n",
      "(FR) Arvoisa puhemies, pahoittelen sitä, että Anni Podimatan mietinnössä on joitain epäselvyyksiä, mikä herättää monia tärkeitä kysymyksiä innovatiivisesta rahoituksesta. Pyytäisin Euroopan parlamentin sosialistien ja demokraattien ryhmää vetämään pois jättämänsä vaihtoehtoisen päätöslauselmaesityksen, niin että saamme vietyä yhteisen valmistelutyön päätökseen.\n",
      "<P>\n",
      "Toiseksi pahoittelen sitä, että transaktiomaksu on herättänyt hieman keinotekoista vastustusta ja että siitä on jätetty kaksi hyvin samanlaista tarkistusta. Pahoittelen sitä, että sen takia Euroopan parlamentti ei voi ilmaista huomattavaa tukeaan kyseiselle verolle EU:n kilpailukyvyn kannalta järkevin ehdoin.\n",
      "<SPEAKER ID=\"142\" NAME=\"Martin Schulz\" AFFILIATION=\"S&amp;D\">\n",
      "(DE) Arvoisa puhemies, voin sanoa Jean-Paul Gauzès'lle seuraavaa: kyllä, me aiomme vetää pois vaihtoehtoisen päätöslauselmaesityksen. Suosittelen sitä ryhmälleni hyvin yksinkertaisesta syystä: seuraava tarkistus, jonka on allekirjoittanut 120 jäsentä kaikista ryhmistä, osoittaa, että keskustelu transaktiomaksusta ei ole minkään yksittäisen ryhmän ehdotus, ei sosialistien, konservatiivien, Euroopan kansanpuolueen (kristillisdemokraatit) eikä Vihreät / Euroopan vapaa allianssi -ryhmän. Asian ydin on se, että me teemme institutionaalisen ehdotuksen ja lähetämme institutionaalisen viestin siitä, että tämä parlamentti pystyy sanomaan puoluerajat ylittäen: \"haluamme yksityisen sektorin maksavan osansa kriisin taakan kantamisesta\". Kyse ei ole sosialistien vaatimuksesta tai Euroopan kansanpuolueen vaatimuksesta; se on yhteinen toiveemme. Jos onnistumme siinä tänään institutionaaliselta pohjalta, niin se on suuri menestys Euroopan parlamentille. Siksi me vedämme päätöslauselmaesityksen pois.\n",
      "<P>\n",
      "(Suosionosoituksia)\n",
      "<SPEAKER ID=\"143\" NAME=\"Rodi Kratsa-Tsagaropoulou\" AFFILIATION=\"PPE\">\n",
      "(EL) Arvoisa puhemies, Euroopan kansanpuolue (kristillisdemokraatit) jätti eilen täysistunnossa toisen ehdotuksen, joka voisi muodostaa kompromissin. Se kuului: voitaisiinko tehdä selväksi, että resursseja ohjataan EU:n talousarvioon ja tukimekanismiin? Esitimme aihetta keskustelua varten eilen ja odotamme vastausta, niin että voimme päästä kompromissiin ja lähettää myönteisen viestin EU:n toimielimille.\n",
      "\n",
      "\n",
      "\n",
      "fr example: \n",
      "<CHAPTER ID=\"009-06\">\n",
      "6. Le financement innovant à l'échelon européen et mondial (\n",
      "<SPEAKER ID=\"141\" NAME=\"Jean-Paul Gauzès\" AFFILIATION=\"PPE\">\n",
      "Madame la Présidente, dans ce rapport Podimata qui soulève un certain nombre de questions importantes pour le financement d'innovations, je regrette une certaine confusion. Je voudrais demander au groupe S&D de retirer la motion alternative qu'il a proposée de manière à ce que le travail d'élaboration commune qui a été fait puisse être mené à son bout.\n",
      "<P>\n",
      "En second lieu, je regrette qu'une opposition un peu factice soit intervenue sur la question de la taxe financière et qu'il y ait deux amendements qui soient très proches l'un de l'autre. Je regrette qu'ainsi le Parlement ne puisse pas manifester de façon massive son approbation à cette taxe dans des conditions qui soient des conditions raisonnables au regard de la compétitivité de l'Europe.\n",
      "<SPEAKER ID=\"142\" NAME=\"Martin Schulz\" AFFILIATION=\"S&amp;D\">\n",
      "(DE) Madame la Présidente, je dirai ceci à M. Gauzès: oui, nous comptons retirer notre proposition de résolution alternative. Je l'ai conseillé à mon groupe, pour une raison toute simple: l'amendement a été signé par cent vingt députés de tous les groupes politiques, preuve que les propositions de taxe sur les transactions financières ne sont pas l'apanage d'un groupe, que ce soit le groupe des socialistes, les conservateurs, le Parti populaire européen (Démocrates-Chrétiens) ou le groupe Verts/Alliance libre européenne. C'est une proposition institutionnelle qui envoie un signal institutionnel selon lequel la présente Assemblée est capable de dire, tous partis confondus: \"Nous voulons que le secteur privé paie sa part dans la gestion de la crise\". Ce n'est pas une requête socialiste ou une demande émanant du groupe PPE. C'est notre volonté à tous. Si nous parvenons à l'exprimer aujourd'hui, sur une base institutionnelle, le Parlement européen aura remporté une belle victoire. Voila pourquoi nous retirons la proposition.\n",
      "<P>\n",
      "(Applaudissements)\n",
      "<SPEAKER ID=\"143\" NAME=\"Rodi Kratsa-Tsagaropoulou\" AFFILIATION=\"PPE\">\n",
      "(EL) Madame la Présidente, hier, en plénière, le groupe du Parti populaire européen (Démocrates-Chrétiens) a déposé un autre projet, qui pourrait constituer un compromis. Nous y demandions si l'on pouvait garantir que des ressources ainsi engrangées alimentent le budget européen et le mécanisme de soutien. Nous avions mis ce thème à l'ordre du jour du débat d'hier et nous attendons une réponse, afin de pouvoir conclure un compromis et envoyer un signe positif aux institutions de l'Union européenne.\n",
      "\n",
      "\n",
      "\n",
      "hu example: \n",
      "<CHAPTER ID=\"009-06\">\n",
      "6. Innovatív finanszírozás globális és európai szinten (\n",
      "<SPEAKER ID=\"141\" NAME=\"Jean-Paul Gauzès\" AFFILIATION=\"PPE\">\n",
      "(FR) Elnök asszony, legnagyobb sajnálatomra, Podimata asszony jelentésében, amely számos fontos kérdést vet fel az innovatív finanszírozás kapcsán, van némi félreértés. Szeretném felkérni a Szocialisták és Demokraták Progresszív Szövetsége Európai Parlamenti Képviselőcsoportját az általuk előterjesztett alternatív indítvány visszavonására, hogy a közös előkészítő munkát befejezhessük.\n",
      "<P>\n",
      "Továbbá azt is sajnálatosnak tartom, hogy a pénzügyi műveletek megadóztatásával szemben némileg mesterkélt ellenállás alakult ki, és két igen hasonló módosítás született. Ugyancsak sajnálom, hogy ennek eredményeképpen a Parlament nem támogatja kellő határozottsággal ezen adónak az európai versenyképesség szempontjából indokolt feltételeit.\n",
      "<SPEAKER ID=\"142\" NAME=\"Martin Schulz\" AFFILIATION=\"S&amp;D\">\n",
      "(DE) Elnök asszony, Gauzčs úr kérésére reagálva szeretném elmondani, hogy egy alternatív állásfoglalás ellenében vissza kívánjuk vonni a tervezetet. A képviselőcsoportomnak is ezt javasoltam, mégpedig azon egyszerű ok miatt, hogy az alábbi - az összes képviselőcsoport 120 képviselője által aláírt - módosításból kiderül, a pénzügyi műveletekre kivetendő adót érintő javaslatok nem egyetlen csoport álláspontját képviselik, legyen szó akár a szocialistákról, a konzervatívokról, az Európai Néppárt (Kereszténydemokraták) Képviselőcsoportról, akár a Zöldek/az Európai Szabad Szövetség Képviselőcsoportjáról. A lényeg az, hogy intézményi javaslatot teszünk, és intézményi jelét adjuk annak, hogy ez a Ház képes pártokon átívelő véleményt megfogalmazni: \"Szeretnénk, ha a magánszektor is kivenné a részét a válság okozta terhek ellensúlyozásában”. Ez nem a szocialisták vagy a kereszténydemokraták követelése, hanem általános elvárás. Ha ma ezt képesek leszünk intézményi alapon kinyilvánítani, azt az Európai Parlament jelentős sikerének tekinthetjük. Ezért vonjuk vissza az indítványt.\n",
      "<P>\n",
      "(Taps)\n",
      "<SPEAKER ID=\"143\" NAME=\"Rodi Kratsa-Tsagaropoulou\" AFFILIATION=\"PPE\">\n",
      "(EL) Elnök asszony, a tegnapi plenáris ülésen az Európai Néppárt (Kereszténydemokraták) Képviselőcsoport egy újabb javaslatot terjesztett elő, amely kompromisszumos megoldás lehet. Kérdésük arra vonatkozott, hogy egyértelművé tehető-e, hogy a források az uniós költségvetésbe és a támogatási mechanizmusba áramlanak? A témát tegnap vitára terjesztettük elő, és válaszra várunk annak érdekében, hogy kompromisszumos megoldást találjuk, és pozitív üzenetet küldjünk az Európai Unió intézményeinek.\n",
      "\n",
      "\n",
      "\n",
      "it example: \n",
      "<CHAPTER ID=\"009-06\">\n",
      "6. Finanziamento innovativo a livello mondiale ed europeo (\n",
      "<SPEAKER ID=\"141\" NAME=\"Jean-Paul Gauzès\" AFFILIATION=\"PPE\">\n",
      "(FR) Signora Presidente, mi rincresce la confusione creatasi attorno alla relazione dell'onorevole Podimata, che solleva diverse questioni importanti in merito al finanziamento innovativo. Invito il gruppo dell'Alleanza progressista di Socialisti e Democratici al Parlamento europeo a ritirare la sua proposta alternativa così da poter portare a conclusione l'elaborazione congiunta avviata.\n",
      "<P>\n",
      "In secondo luogo, mi rincresce che sia emersa una opposizione leggermente artificiosa riguardo alla questione della tassa sulle transazioni finanziarie e che esistano due emendamenti molto simili. Di conseguenza mi rincresce che il Parlamento non possa esprimere il pieno sostegno per questa imposizione alle condizioni più ragionevoli per la competitività dell'Europa.\n",
      "<SPEAKER ID=\"142\" NAME=\"Martin Schulz\" AFFILIATION=\"S&amp;D\">\n",
      "(DE) Signora Presidente, rispondo all'onorevole Gauzès che, sì, intendiamo ritirare questa proposta di risoluzione alternativa e ho invitato il mio gruppo a procedere in tal senso per un motivo molto semplice: l'emendamento sottoscritto dai 120 membri di tutti i gruppi dimostra che le proposte relative alla tassa sulle transazioni finanziarie non sono appannaggio di alcun gruppo in particolare, sia esso socialista, conservatore, il gruppo del Partito popolare europeo (Democratico cristiano) o il gruppo Verde/Alleanza libera europea. Il punto è che stiamo formulando una proposta istituzionale e lanciando un segnale istituzionale a dimostrazione della capacità di questa Assemblea di dichiarare trasversalmente: \"Vogliamo che anche il settore privato si assuma l'onere della crisi”. Non si tratta di una richiesta avanzata dai socialisti né dal gruppo del Partito popolare europeo, bensì di una volontà comune. Se riusciremo a far pervenire questo messaggio istituzionale, il Parlamento europeo avrà raggiunto un grande traguardo. Questo è il motivo per cui ritireremo la proposta.\n",
      "<P>\n",
      "(Applausi)\n",
      "<SPEAKER ID=\"143\" NAME=\"Rodi Kratsa-Tsagaropoulou\" AFFILIATION=\"PPE\">\n",
      "(EL) Signora Presidente, nella plenaria di ieri il gruppo del Partito popolare europeo (Democratico cristiano) ha formulato quella che potrebbe rappresentare una proposta di compromesso. In effetti così è stato: sarebbe possibile precisare che le risorse confluiranno nel bilancio dell'Unione e nel suo meccanismo di sostegno? Ieri abbiamo presentato l'oggetto della discussione e siamo in attesa di una risposta che consenta di raggiungere un compromesso e inviare un messaggio positivo alle istituzioni europee.\n",
      "\n",
      "\n",
      "\n",
      "lt example: \n",
      "<CHAPTER ID=\"009-06\">\n",
      "6. Novatoriškas finansavimas pasauliniu ir Europos lygmenimis (\n",
      "<SPEAKER ID=\"141\" NAME=\"Jean-Paul Gauzès\" AFFILIATION=\"PPE\">\n",
      "(FR) Ponia pirmininke, apgailestauju, kad atsirado šiek tiek painiavos dėl šio A. Podimatos pranešimo, kuriame keliami svarbūs novatoriško finansavimo klausimai. Norėčiau Europos Parlamento socialistų ir demokratų pažangiojo aljanso frakcijos paprašyti atsiimti pateiktą alternatyvų pasiūlymą, kad galėtų būti apibendrintas atliktas bendras pranešimo rengimo darbas.\n",
      "<P>\n",
      "Antra, apgailestauju, kad parodytas šiek tiek dirbtinis pasipriešinimas finansinių sandorių apmokestinimui ir pateikti du labai panašūs pakeitimai. Gaila, kad dėl to Parlamentas negali labai tvirtai pritarti šiam mokesčiui tokiomis sąlygomis, kurios būtų pagrįstos Europos konkurencingumo atžvilgiu.\n",
      "<SPEAKER ID=\"142\" NAME=\"Martin Schulz\" AFFILIATION=\"S&amp;D\">\n",
      "(DE) Ponia pirmininke, norėčiau atsakyti J. P. Gauzès: taip, ketiname atsiimti alternatyvios rezoliucijos projektą. Savo frakcijai tai siūlau dėl itin paprastos priežasties: šis pakeitimas, kurį pasiraš120 visų frakcijų narių, rodo, kad pasiūlymams dėl finansinių sandorių apmokestinimo nepritaria jokios frakcijos, nei socialistų, nei konservatorių, nei Europos liaudies partijos (krikščionių demokratų) frakcija ar Žaliųjų frakcija / Europos laisvasis aljansas. Esmta, kad pateikiame institucinį pasiūlymą ir siunčiame institucinį ženklą, kad šis Parlamentas gali remtis frakciniu principu ir teigti: \"Pageidaujame, kad privatusis sektorius sumokėtų savo dalį sprendžiant krizės sukeltas problemas\". Tai nėra socialistų ar PPE frakcijos reikalavimas, tai bendras visų pageidavimas. Jei šiandien tai sugebėsime išreikšti instituciniu požiūriu, tai bus didžiulEuropos Parlamento sėkmė. Todėl atsiimame šį pasiūlymą.\n",
      "<P>\n",
      "(Plojimai)\n",
      "<SPEAKER ID=\"143\" NAME=\"Rodi Kratsa-Tsagaropoulou\" AFFILIATION=\"PPE\">\n",
      "(EL) Ponia pirmininke, vakar vykusiame plenariniame posėdyje Europos liaudies partijos (krikščionių demokratų) frakcija pateikdar vieną pasiūlymą, kuris galėtų tapti kompromisu. Prašyta patvirtinti, kad ištekliai būtų perduodami į ES biudžetą ir skirti paramos mechanizmams. Vakar pateikėme diskusijų temą ir laukiame atsakymo, kad galėtume pasiekti kompromisą ir ES institucijoms perduoti teigiamą žinią.\n",
      "\n",
      "\n",
      "\n",
      "lv example: \n",
      "<CHAPTER ID=\"009-06\">\n",
      "6.  Novatoriski finansēšanas veidi Eiropā un pasaulē (\n",
      "<SPEAKER ID=\"141\" NAME=\"Jean-Paul Gauzès\" AFFILIATION=\"PPE\">\n",
      "(FR) Priekšsēdētājas kundze! Ar nožēlu ir jāatzīst, ka Podimata kundzes atzinumā ir dažas neskaidrības, kas rada vairākus svarīgus jautājums par novatoriskiem finansēšanas veidiem. Es vēlētos lūgt Eiropas Parlamenta sociālistu un demokrātu progresīvās alianses grupu atsaukt to piedāvāto alternatīvo priekšlikumu, lai mēs varētu noslēgt kopējo sagatavošanas darbu.\n",
      "<P>\n",
      "Otrkārt, man ar nožēlu jāatzīst, ka ir radusies nedaudz mākslīga opozīcija jautājumam par finanšu darījumu nodokli un ir piedāvāti divi ļoti līdzīgi grozījumi. Diemžēl tā rezultātā Parlaments nevar izteikt milzīgu atbalstu šim nodoklim situācijā, kad tas ir pieņemami no Eiropas konkurētspējas viedokļa.\n",
      "<SPEAKER ID=\"142\" NAME=\"Martin Schulz\" AFFILIATION=\"S&amp;D\">\n",
      "(DE) Priekšsēdētājas kundze! Es vēlētos atbildēt Gauzès kundzei: \"Jā, mēs plānojam atsaukt šo projektu, lai iesniegtu alternatīvu rezolūciju. Es grupai ieteikšu to darīt vienkārša iemesla dēļ - šie grozījumi, kurus ir parakstījuši 120 biedri no visām grupām, norāda uz to, ka priekšlikumi par finanšu darījumu nodokļiem neattiecas tikai uz kādu vienu grupu neatkarīgi no tā, vai tie būtu sociālisti, konservatīvie, Eiropas Tautas partijas grupa (Kristīgie demokrāti) vai Zaļo un Eiropas Brīvās apvienības grupa. Būtībā mēs radām institucionālu priekšlikumu un sūtām institucionālu signālu, ka šis Parlaments spēj formulēt dažādu grupu kopējo viedokli: \"Mēs vēlamies, lai privātais sektors ieguldītu savu artavu šīs krīzes pārvarēšanā.” Tā nav sociālistu vai PPE grupas prasība, bet gan mūsu kopējā vēlme. Ja mēs šodien varam izteikt institucionālu viedokli, tad tas būs ievērojams Eiropas Parlamenta panākums. Tādēļ mēs atsaucam savu priekšlikumu.\n",
      "<P>\n",
      "(Aplausi)\n",
      "<SPEAKER ID=\"143\" NAME=\"Rodi Kratsa-Tsagaropoulou\" AFFILIATION=\"PPE\">\n",
      "(EL) Priekšsēdētājas kundze! Vakardienas plenārsēdē Eiropas Tautas partijas grupa (Kristīgie demokrāti) iesniedza kompromisa priekšlikumu. Tas liek uzdot jautājumu: vai ir iespējams skaidri pateikt, ka resursi tiks novirzīti ES budžetā un atbalsta mehānismam? Mēs lūdzām izskatīt šo jautājumu debatēs un gaidām atbildi, lai varētu panākt kompromisu un nosūtīt pozitīvu ziņu ES iestādēm.\n",
      "\n",
      "\n",
      "\n",
      "nl example: \n",
      "<CHAPTER ID=\"009-06\">\n",
      "6. Innoverende financiering op mondiaal en Europees niveau (\n",
      "<SPEAKER ID=\"141\" NAME=\"Jean-Paul Gauzès\" AFFILIATION=\"PPE\">\n",
      "(FR) Mevrouw de Voorzitter, er is helaas sprake van enige verwarring in dit verslag van mevrouw Podimata, waarin belangrijke kwesties met betrekking tot innoverende financiering worden besproken. Ik verzoek de Fractie van de Progressieve Alliantie van Socialisten en Democraten in het Europees Parlement de door haar ingediende alternatieve ontwerpresolutie in te trekken zodat de geleverde inspanningen om tot een gezamenlijke opstelling te komen, kunnen worden voltooid.\n",
      "<P>\n",
      "Ook betreur ik het dat er een enigszins artificiële oppositie is ontstaan in de kwestie van een belasting op financiële transacties en dat er twee haast identieke amendementen zijn. Tot mijn spijt kan het Parlement hierdoor niet zijn overweldigende steun uitspreken voor deze belasting in omstandigheden die redelijk zijn voor Europa's concurrentievermogen.\n",
      "<SPEAKER ID=\"142\" NAME=\"Martin Schulz\" AFFILIATION=\"S&amp;D\">\n",
      "(DE) Mevrouw de Voorzitter, ik kan de heer Gauzès dit vertellen: ja, wij zijn van plan om deze alternatieve ontwerpresolutie in te trekken. Ik heb mijn fractie aanbevolen dit te doen om een heel eenvoudige reden: het volgende amendement dat ondertekend is door 120 leden uit alle fracties, laat zien dat voorstellen voor een belasting op financiële transacties niet voorbehouden zijn aan één fractie, of het nu de socialistische, de conservatieve, de Fractie van de Europese Volkspartij (Christendemocraten) of de Fractie De Groenen/Vrije Europese Alliantie is. Het gaat erom dat wij een institutioneel voorstel doen en een institutioneel signaal afgeven dat dit Parlement in staat is om over de grenzen van de fracties heen te zeggen: \"Wij willen dat de particuliere sector zijn steentje bijdraagt aan het oplossen van de crisis.” Dit is geen socialistische eis, of een eis van de PPE-Fractie; het is onze gemeenschappelijke wens. Als het ons vandaag lukt om dit institutioneel tot uitdrukking te brengen, zal dit een groot succes zijn voor het Europees Parlement. Daarom trekken wij deze motie in.\n",
      "<P>\n",
      "(Applaus)\n",
      "<SPEAKER ID=\"143\" NAME=\"Rodi Kratsa-Tsagaropoulou\" AFFILIATION=\"PPE\">\n",
      "(EL) Mevrouw de Voorzitter, gisteren hebben wij als Fractie van de Europese Volkspartij (Christendemocraten) in de plenaire vergadering bij wijze van compromis een ander voorstel gedaan. Misschien kan duidelijk worden gemaakt dat de middelen doorgesluisd moeten worden naar de communautaire begroting en het steunmechanisme. Wij hebben gisteren voorgesteld hierover een debat te voeren en wij wachten nog op een antwoord. Zodra dat antwoord er is, kunnen wij een compromis opstellen en een positieve boodschap sturen aan de communautaire instellingen.\n",
      "\n",
      "\n",
      "\n",
      "pl example: \n",
      "<CHAPTER ID=\"009-06\">\n",
      "6. Innowacyjne metody finansowania na szczeblu światowym i europejskim (\n",
      "<SPEAKER ID=\"141\" NAME=\"Jean-Paul Gauzès\" AFFILIATION=\"PPE\">\n",
      "(FR) Pani Przewodnicząca! Szkoda, że w tym sprawozdaniu pani poseł Podimaty jest pewna pomyłka, która pociąga za sobą wiele istotnych kwestii związanych z nowymi źródłami finansowania. Chciałbym prosić grupę Postępowego Sojuszu Socjalistów i Demokratów w Parlamencie Europejskim o wycofanie alternatywnego projektu, który złożyła, żeby można było dokończyć rozpoczętą pracę nad wspólnym projektem.\n",
      "<P>\n",
      "Po drugie, ubolewam, że pojawił się nieco sztuczny sprzeciw wobec podatku od transakcji finansowych i że zgłoszono dwie bardzo podobne poprawki. Ubolewam też, że w związku z tym Parlament nie może wyrazić swego ogromnego poparcia dla tego podatku w warunkach, które są racjonalnie uzasadnione z punktu widzenia konkurencyjności Europy.\n",
      "<SPEAKER ID=\"142\" NAME=\"Martin Schulz\" AFFILIATION=\"S&amp;D\">\n",
      "(DE) Pani Przewodnicząca! Panu posłowi Gauzèsowi mogę powiedzieć, co następuje: owszem, zamierzamy wycofać ten alternatywny projekt rezolucji. Taką propozycję złożyłem swojej grupie z bardzo prostej przyczyny: poprawka, pod którą podpisało się 120 posłów ze wszystkich grup, świadczy o tym, że propozycje dotyczące podatku od transakcji finansowych nie są domeną tylko jednej grupy, ani socjalistów, konserwatystów, Grupy Europejskiej Partii Ludowej (Chrześcijańskich Demokratów). ani Grupy Zielonych/Wolnego Przymierza Europejskiego. Chodzi o to, że opracowujemy projekt instytucjonalny i przekazujemy komunikat instytucjonalny, że ten Parlament potrafi powiedzieć ponad partyjnymi różnicami: \"Chcemy, żeby sektor prywatny miał swój udział w kosztach radzenia sobie z ciężarem kryzysu”. To nie jest żądanie socjalistów ani grupy PPE, lecz nasze wspólne życzenie. Jeśli uda nam się wyrazić je na gruncie instytucjonalnym, będzie to wielki sukces Parlamentu Europejskiego. W związku z tym wycofujemy ten projekt.\n",
      "<P>\n",
      "(Oklaski)\n",
      "<SPEAKER ID=\"143\" NAME=\"Rodi Kratsa-Tsagaropoulou\" AFFILIATION=\"PPE\">\n",
      "(EL) Pani Przewodnicząca! Wczoraj na posiedzeniu plenarnym Grupa Europejskiej Partii Ludowej (Chrześcijańskich Demokratów) przedstawiła kolejną propozycję, która może stanowić kompromis. A mianowicie: czy można byłoby jasno określić, że środki będą przekazywane do budżetu UE i przeznaczane na mechanizm wsparcia? Zgłosiliśmy wczoraj temat na debatę - i czekamy na odpowiedź - żebyśmy mogli osiągnąć kompromis i wysłać konkretny sygnał instytucjom UE.\n",
      "\n",
      "\n",
      "\n",
      "pt example: \n",
      "<CHAPTER ID=\"009-06\">\n",
      "6. Financiamento inovador a nível mundial e europeu (\n",
      "<SPEAKER ID=\"141\" NAME=\"Jean-Paul Gauzès\" AFFILIATION=\"PPE\">\n",
      "(FR) Senhora Presidente, lamento que exista uma certa confusão neste relatório da senhora deputada Anni Podimata, que levanta uma série de questões importantes no que diz respeito ao financiamento inovador. Gostaria de pedir ao Grupo da Aliança Progressista dos Socialistas & Democratas no Parlamento Europeu que retirasse a proposta alternativa que apresentou a fim de que o trabalho de redacção conjunto que foi realizado seja concluído.\n",
      "<P>\n",
      "Em segundo lugar, lamento que uma oposição algo artificial tenha emergido sobre a questão do imposto sobre transacções financeiras e que existam duas alterações muito semelhantes. Lamento que, como resultado disso, o Parlamento não possa expressar o seu apoio esmagador a esse imposto em condições que sejam razoáveis face à competitividade da Europa.\n",
      "<SPEAKER ID=\"142\" NAME=\"Martin Schulz\" AFFILIATION=\"S&amp;D\">\n",
      "(DE) Senhora Presidente, posso dizer ao senhor deputado Jean-Paul Gauzès o seguinte: sim, tencionamos retirar esta proposta de resolução alternativa. Foi essa a recomendação que fiz ao meu Grupo e por uma razão muito simples: a alteração que se segue, que foi assinada por 120 deputados de todos os grupos, mostra que as propostas relativas a um imposto sobre transacções financeiras não são propriedade de qualquer Grupo, dos Conservadores, dos Socialistas, do Grupo do Partido Popular Europeu (Democratas-Cristãos), ou do Grupo dos Verdes/Aliança Livre Europeia. A ideia é apresentar uma proposta institucional e emitir um sinal institucional de que esta Câmara é capaz de forma transversal a todos os grupos políticos: \"Queremos que o sector privado pague a sua quota-parte dos encargos da crise\". Esta não é uma exigência socialista, ou uma exigência do Grupo PPE, é o nosso desejo comum. Se conseguirmos expressar esta ideia, hoje, de forma institucional, então isso representará um enorme êxito para o Parlamento Europeu. Essa a razão que nos leva a retirar a proposta.\n",
      "<P>\n",
      "(Aplausos)\n",
      "<SPEAKER ID=\"143\" NAME=\"Rodi Kratsa-Tsagaropoulou\" AFFILIATION=\"PPE\">\n",
      "(EL) Senhora Presidente, ontem, em sessão plenária, o Grupo do Partido Popular Europeu (Democratas-Cristãos) apresentou uma outra proposta que poderá constituir um compromisso, a saber: será possível deixar claro que os recursos serão canalizados para o orçamento da UE e para o mecanismo de apoio? Apresentámos o assunto para debate, ontem, e aguardamos uma resposta, para que possamos chegar a um compromisso e enviar uma mensagem positiva às Instituições da UE.\n",
      "\n",
      "\n",
      "\n",
      "ro example: \n",
      "<CHAPTER ID=\"004-02\">\n",
      "2. (\n",
      "\n",
      "\n",
      "\n",
      "sk example: \n",
      "<CHAPTER ID=\"009-06\">\n",
      "6. Inovačné financovanie na celosvetovej a európskej úrovni (\n",
      "<SPEAKER ID=\"141\" NAME=\"Jean-Paul Gauzès\" AFFILIATION=\"PPE\">\n",
      "(FR) Je mi ľúto, že nastal určitý zmätok v súvislosti so správou pani Podimatovej, ktorá otvára množstvo dôležitých otázok týkajúcich sa inovačného financovania. Chcel by som požiadať Skupinu progresívnej aliancie socialistov a demokratov v Európskom parlamente, aby stiahla alternatívny návrh, ktorý predložila, aby bolo možné dokončiť spoločnú prácu na návrhu.\n",
      "<P>\n",
      "Po druhé, je mi ľúto, že sa vytvorila mierne umelá opozícia v otázke dane z finančných transakcií a že máme dva veľmi podobné pozmeňujúce a doplňujúce návrhy. Je mi ľúto, že z tohto dôvodu Parlament nemôže vyjadriť výraznú podporu tejto dani za podmienok, ktoré sú opodstatnené z hľadiska konkurencieschopnosti Európy.\n",
      "<SPEAKER ID=\"142\" NAME=\"Martin Schulz\" AFFILIATION=\"S&amp;D\">\n",
      "(DE) Pánovi Gauzèsovi môžem povedať toto: áno, máme v úmysle stiahnuť tento návrh alternatívneho riešenia. Odporučil som to našej skupine z veľmi jednoduchého dôvodu: nasledujúci pozmeňujúci a doplňujúci návrh, ktorý podpísalo 120 poslancov zo všetkých skupín, ukazuje, že návrhy týkajúce sa dane z finančných transakcií nie sú doménou len jednej skupiny, či už socialistov, konzervatívcov, Poslaneckého klubu Európskej ľudovej strany (kresťanských demokratov), alebo Skupiny zelených/Európskej slobodnej aliancie. Ide o to, že predkladáme inštitucionálny návrh a vydávame inštitucionálny signál, že v tomto Parlamente dokážu rôzne strany spoločne povedať, že chceme, aby súkromný sektor zaplatil svoj podiel na riešení problémov krízy. Nie je to požiadavka socialistov ani požiadavka poslaneckého klubu PPE, ale je to naše spoločné želanie. Ak sa nám to dnes podarí vyjadriť na inštitucionálnom základe, bude to veľkým úspechom Európskeho parlamentu. To je dôvod, prečo sťahujeme tento návrh.\n",
      "<P>\n",
      "(potlesk)\n",
      "<SPEAKER ID=\"143\" NAME=\"Rodi Kratsa-Tsagaropoulou\" AFFILIATION=\"PPE\">\n",
      "(EL) Poslanecký klub Európskej ľudovej strany (kresťanských demokratov) včera v pléne predložil ďalší návrh, ktorý by mohol predstavovať kompromis. Išlo v ňom o to, či by sa nedalo jasne povedať, že zdroje budú nasmerované do rozpočtu EÚ a na podporný mechanizmus. Včera sme predložili túto tému na diskusiu a čakáme na odpoveď, aby sme mohli dosiahnuť kompromis a vyslať pozitívny signál inštitúciám EÚ.\n",
      "\n",
      "\n",
      "\n",
      "sl example: \n",
      "<CHAPTER ID=\"009-06\">\n",
      "6. Inovativno financiranje na svetovni in evropski ravni (\n",
      "<SPEAKER ID=\"141\" NAME=\"Jean-Paul Gauzès\" AFFILIATION=\"PPE\">\n",
      "(FR) Gospa predsednica, obžalujem, da je v poročilu gospe Podimata, ki zastavlja številna pomembna vprašanja v zvezi z inovativnim financiranjem, nekaj zmede. Skupino naprednega zavezništva socialistov in demokratov v Evropskem parlamentu bi rad prosil, naj umakne alternativni predlog, ki ga je podala, da bi lahko končali skupno delo z zvezi s pripravo poročila.\n",
      "<P>\n",
      "Drugič, obžalujem, da je glede davka na finančne transakcije nastalo rahlo umetno nasprotovanje in imamo dva zelo pomembna predloga sprememb. Obžalujem, da Parlament zato ne more izraziti prepričljive podpore temu davku pri pogojih, ki so sprejemljivi glede konkurenčnosti Evrope.\n",
      "<SPEAKER ID=\"142\" NAME=\"Martin Schulz\" AFFILIATION=\"S&amp;D\">\n",
      "(DE) Gospa predsednica, gospodu Gauzèsu lahko rečem tole: da, nameravamo umakniti ta osnutek alternativnega predloga. Svoji skupini sem to predlagal iz zelo preprostega razloga: Ta predlog spremembe, ki ga je podpisalo 120 poslancev iz vseh skupin, kaže, da predlogi v zvezi z davkom na finančne transakcije, niso v pristojnosti nobene skupine, pa naj bodo to socialisti, konservativci, Poslanska skupina Evropske ljudske stranke (Krščanskih demokratov) ali Skupina Zelenih/Evropske svobodne zveze. Bistvo je, da pripravljamo institucionalni predlog in pošiljamo institucionalni signal, da je ta parlament sposoben povedati nadstrankarsko: \"Hočemo, da zasebni sektor plača svoj delež, ko se spopadamo z bremenom krize\". To ni zahteva socialistov ali skupine PPE, to je skupna želja. Če nam danes to uspe izraziti na institucionalni podlagi, potem bo to velik uspeh za Evropski parlament. Zato umikamo ta predlog.\n",
      "<P>\n",
      "(Aplavz)\n",
      "<SPEAKER ID=\"143\" NAME=\"Rodi Kratsa-Tsagaropoulou\" AFFILIATION=\"PPE\">\n",
      "(EL) Gospa predsednica, Poslanska skupina Evropske ljudske stranke (Krščanskih demokratov) in Evropskih demokratov je včeraj na plenarnem zasedanju podala drug predlog, ki bi lahko predstavljal kompromis. Predlog je bil: bi lahko pojasnili, da se bodo sredstva usmerila v proračun EU in podporni mehanizem? Temo smo predložili v razpravo in čakamo na odgovor, da bomo lahko dosegli kompromis in institucijam EU poslali pozitivno sporočilo.\n",
      "\n",
      "\n",
      "\n",
      "sv example: \n",
      "<CHAPTER ID=\"009-06\">\n",
      "6. Innovativ finansiering på global nivå och på EU-nivå (\n",
      "<SPEAKER ID=\"141\" NAME=\"Jean-Paul Gauzès\" AFFILIATION=\"PPE\">\n",
      "(FR) Fru talman! Jag beklagar att det råder en viss förvirring i detta betänkande av Anni Podimata, vilket ger anledning till en rad viktiga frågor när det gäller innovativ finansiering. Jag vill be gruppen Progressiva alliansen av socialister och demokrater i Europaparlamentet att dra tillbaka det alternativa förslag som gruppen har lagt fram så att det gemensamma förberedelsearbetet kan slutföras.\n",
      "<P>\n",
      "För det andra beklagar jag att det har framkommit ett något artificiellt motstånd i frågan om skatt på finansiella transaktioner och att det finns två mycket likartade ändringsförslag. Jag beklagar att parlamentet därigenom inte kan uttrycka sitt överväldigande stöd för denna skatt på ett sätt som är rimligt med hänsyn till EU:s konkurrenskraft.\n",
      "<SPEAKER ID=\"142\" NAME=\"Martin Schulz\" AFFILIATION=\"S&amp;D\">\n",
      "(DE) Fru talman! Jag kan säga följande till Jean-Paul Gauzès: ja, vi tänker dra tillbaka detta förslag till alternativ resolution. Jag rekommenderade min grupp att göra så av en mycket enkel anledning: Följande ändringsförslag, som har undertecknats av 120 ledamöter från alla grupper, visar att förslagen om en skatt på finansiella transaktioner inte är något som bara intresserar en enda grupp, vare sig det gäller socialister, konservativa, Europeiska folkpartiets grupp (kristdemokrater) eller gruppen De gröna/Europeiska fria alliansen. Poängen är att vi lägger fram ett institutionellt förslag och sänder en institutionell signal om att parlamentet över partigränserna kan säga: \"Vi vill att den privata sektorn ska betala sin andel av bördorna på grund av krisen”. Detta är inte något socialistiskt krav, inte något krav från PPE-gruppen, utan det är vår gemensamma önskan. Om vi lyckas uttrycka detta i dag på en institutionell grundval kommer detta att vara en mycket stor famgång för Europaparlamentet. Detta är anledningen till att vi drar tillbaka detta förslag.\n",
      "<P>\n",
      "(Applåder)\n",
      "<SPEAKER ID=\"143\" NAME=\"Rodi Kratsa-Tsagaropoulou\" AFFILIATION=\"PPE\">\n",
      "(EL) Fru talman! Under plenarsammanträdet igår lade Europeiska folkpartiets grupp (kristdemokrater) fram ett annat förslag som skulle kunna utgöra en kompromiss. Det var följande förslag: skulle man kunna förtydliga att resurser kommer att kanaliseras till EU-budgteten och stödmekanismen? Vi framförde ämnet för debatt igår, och vi väntar på ett svar så att vi kan komma fram till en kompromiss och sända ett positivt budskap till EU:s institutioner.\n",
      "\n",
      "\n",
      "\n"
     ]
    }
   ],
   "source": [
    "for i, country in enumerate(country_data):\n",
    "    print(\"{} example: \".format(countries[i]))\n",
    "    print(\"{}\".format(country[0]))\n",
    "    print('\\n')"
   ]
  },
  {
   "cell_type": "markdown",
   "metadata": {},
   "source": [
    "###  Clean data\n",
    "Let's clean the data by remove new line, numbers and split on paragraphs. Then split on the paragraphs and save these in a list. "
   ]
  },
  {
   "cell_type": "code",
   "execution_count": 146,
   "metadata": {},
   "outputs": [],
   "source": [
    "def clean_data(lang_file):\n",
    "    for ind,file in enumerate(lang_file):\n",
    "        c_file = re.sub('\\\\n', '', file) #remove \\n\n",
    "        c_file = re.sub('\\d', '', c_file) #remove numbers\n",
    "        c_file = c_file.split('<P>') #Seperate on paragraphs\n",
    "        cc_file = []\n",
    "        for count,item in enumerate(c_file):\n",
    "            item_c = re.sub('<[^>]+>', '', item)\n",
    "            if not re.match(r'[\\W_]+', item_c) and item_c != '': #check if only special char or emtpy\n",
    "                cc_file.append(item_c)        \n",
    "        lang_file[ind] = cc_file"
   ]
  },
  {
   "cell_type": "code",
   "execution_count": 147,
   "metadata": {},
   "outputs": [],
   "source": [
    "for country in country_data:\n",
    "    clean_data(country)"
   ]
  },
  {
   "cell_type": "markdown",
   "metadata": {},
   "source": [
    "### Store in data frame\n",
    "Put all the paragraphs in a dataframe together with their respective language label. "
   ]
  },
  {
   "cell_type": "code",
   "execution_count": 148,
   "metadata": {
    "collapsed": true
   },
   "outputs": [],
   "source": [
    "df = pd.DataFrame({'num' : [],'paragraphs' : [], 'language': []})"
   ]
  },
  {
   "cell_type": "code",
   "execution_count": 149,
   "metadata": {
    "collapsed": true
   },
   "outputs": [],
   "source": [
    "for count, country in enumerate(country_data):\n",
    "    flat_list = [item for sublist in country for item in sublist] #flatten the data \n",
    "    dict_new = {'num':[count]*len(flat_list),'paragraphs':flat_list,\n",
    "                'language':['{}'.format(countries[count])]*len(flat_list)}\n",
    "    df_new = pd.DataFrame.from_dict(dict_new)\n",
    "    df = pd.concat([df, df_new])"
   ]
  },
  {
   "cell_type": "code",
   "execution_count": 150,
   "metadata": {},
   "outputs": [
    {
     "data": {
      "text/html": [
       "<div>\n",
       "<style>\n",
       "    .dataframe thead tr:only-child th {\n",
       "        text-align: right;\n",
       "    }\n",
       "\n",
       "    .dataframe thead th {\n",
       "        text-align: left;\n",
       "    }\n",
       "\n",
       "    .dataframe tbody tr th {\n",
       "        vertical-align: top;\n",
       "    }\n",
       "</style>\n",
       "<table border=\"1\" class=\"dataframe\">\n",
       "  <thead>\n",
       "    <tr style=\"text-align: right;\">\n",
       "      <th></th>\n",
       "      <th>language</th>\n",
       "      <th>num</th>\n",
       "      <th>paragraphs</th>\n",
       "    </tr>\n",
       "  </thead>\n",
       "  <tbody>\n",
       "    <tr>\n",
       "      <th>0</th>\n",
       "      <td>bg</td>\n",
       "      <td>0.0</td>\n",
       "      <td>Второ, съжалявам, че се появи малко изкуствено...</td>\n",
       "    </tr>\n",
       "    <tr>\n",
       "      <th>1</th>\n",
       "      <td>bg</td>\n",
       "      <td>0.0</td>\n",
       "      <td>Поправки и намерения за гласуване: вж. протоколи</td>\n",
       "    </tr>\n",
       "    <tr>\n",
       "      <th>2</th>\n",
       "      <td>bg</td>\n",
       "      <td>0.0</td>\n",
       "      <td>Въпроси за устен отговор и писмени декларации ...</td>\n",
       "    </tr>\n",
       "    <tr>\n",
       "      <th>3</th>\n",
       "      <td>bg</td>\n",
       "      <td>0.0</td>\n",
       "      <td>Писмени декларации (внасяне): вж. протокола</td>\n",
       "    </tr>\n",
       "    <tr>\n",
       "      <th>4</th>\n",
       "      <td>bg</td>\n",
       "      <td>0.0</td>\n",
       "      <td>Положението в Република Молдова (разискване)Сл...</td>\n",
       "    </tr>\n",
       "  </tbody>\n",
       "</table>\n",
       "</div>"
      ],
      "text/plain": [
       "  language  num                                         paragraphs\n",
       "0       bg  0.0  Второ, съжалявам, че се появи малко изкуствено...\n",
       "1       bg  0.0   Поправки и намерения за гласуване: вж. протоколи\n",
       "2       bg  0.0  Въпроси за устен отговор и писмени декларации ...\n",
       "3       bg  0.0        Писмени декларации (внасяне): вж. протокола\n",
       "4       bg  0.0  Положението в Република Молдова (разискване)Сл..."
      ]
     },
     "execution_count": 150,
     "metadata": {},
     "output_type": "execute_result"
    }
   ],
   "source": [
    "df.head()"
   ]
  },
  {
   "cell_type": "code",
   "execution_count": 151,
   "metadata": {},
   "outputs": [
    {
     "data": {
      "text/html": [
       "<div>\n",
       "<style>\n",
       "    .dataframe thead tr:only-child th {\n",
       "        text-align: right;\n",
       "    }\n",
       "\n",
       "    .dataframe thead th {\n",
       "        text-align: left;\n",
       "    }\n",
       "\n",
       "    .dataframe tbody tr th {\n",
       "        vertical-align: top;\n",
       "    }\n",
       "</style>\n",
       "<table border=\"1\" class=\"dataframe\">\n",
       "  <thead>\n",
       "    <tr style=\"text-align: right;\">\n",
       "      <th></th>\n",
       "      <th>language</th>\n",
       "      <th>num</th>\n",
       "      <th>paragraphs</th>\n",
       "    </tr>\n",
       "  </thead>\n",
       "  <tbody>\n",
       "    <tr>\n",
       "      <th>500084</th>\n",
       "      <td>sv</td>\n",
       "      <td>20.0</td>\n",
       "      <td>Unionen måste vidta åtgärder för att öka sin f...</td>\n",
       "    </tr>\n",
       "    <tr>\n",
       "      <th>500085</th>\n",
       "      <td>sv</td>\n",
       "      <td>20.0</td>\n",
       "      <td>Vi får i synnerhet inte glömma bort européerna...</td>\n",
       "    </tr>\n",
       "    <tr>\n",
       "      <th>500086</th>\n",
       "      <td>sv</td>\n",
       "      <td>20.0</td>\n",
       "      <td>Beslut om vissa dokument: se protokollet</td>\n",
       "    </tr>\n",
       "    <tr>\n",
       "      <th>500087</th>\n",
       "      <td>sv</td>\n",
       "      <td>20.0</td>\n",
       "      <td>Rättelser/avsiktsförklaringar till avgivna rös...</td>\n",
       "    </tr>\n",
       "    <tr>\n",
       "      <th>500088</th>\n",
       "      <td>sv</td>\n",
       "      <td>20.0</td>\n",
       "      <td>Framställningar: se protokollet</td>\n",
       "    </tr>\n",
       "  </tbody>\n",
       "</table>\n",
       "</div>"
      ],
      "text/plain": [
       "       language   num                                         paragraphs\n",
       "500084       sv  20.0  Unionen måste vidta åtgärder för att öka sin f...\n",
       "500085       sv  20.0  Vi får i synnerhet inte glömma bort européerna...\n",
       "500086       sv  20.0           Beslut om vissa dokument: se protokollet\n",
       "500087       sv  20.0  Rättelser/avsiktsförklaringar till avgivna rös...\n",
       "500088       sv  20.0                    Framställningar: se protokollet"
      ]
     },
     "execution_count": 151,
     "metadata": {},
     "output_type": "execute_result"
    }
   ],
   "source": [
    "df.tail()"
   ]
  },
  {
   "cell_type": "code",
   "execution_count": 152,
   "metadata": {},
   "outputs": [
    {
     "data": {
      "text/plain": [
       "array(['bg', 'cs', 'da', 'de', 'el', 'en', 'es', 'et', 'fi', 'fr', 'hu',\n",
       "       'it', 'lt', 'lv', 'nl', 'pl', 'pt', 'ro', 'sk', 'sl', 'sv'], dtype=object)"
      ]
     },
     "execution_count": 152,
     "metadata": {},
     "output_type": "execute_result"
    }
   ],
   "source": [
    "df['language'].unique()"
   ]
  },
  {
   "cell_type": "markdown",
   "metadata": {},
   "source": [
    "### Look at one  example for each language"
   ]
  },
  {
   "cell_type": "code",
   "execution_count": 153,
   "metadata": {},
   "outputs": [
    {
     "name": "stdout",
     "output_type": "stream",
     "text": [
      "bg example: \n",
      "Второ, съжалявам, че се появи малко изкуствено противопоставяне по въпроса за данък върху финансовите операции и че има две много подобни изменения. Съжалявам, че в резултат на това Парламентът не може да изрази категорична подкрепа за този данък при условия, които са разумни по отношение на конкурентоспособността на Европа.(DE) Г-жо председател, мога да кажа на г-н Gauzès следното: да, възнамеряваме да оттеглим проекта на алтернативна резолюция. Препоръчах го на моята група поради една много проста причина: следващото изменение, подписано от  колеги от всички групи, показва, че предложенията относно данък върху финансовите операции не са запазена марка на която и да е група, независимо дали социалистите, консерваторите, групата на Европейската народна партия (Християндемократи) или групата на Зелените/Европейски свободен алианс. Въпросът е, че правим институционално предложение и изпращаме институционално послание, че залата е в състояние да каже на междупартийна основа: \"Искаме частният сектор да поеме своя дял в преодоляването на бремето от кризата\". Това не е искане на социалистите или на групата на Европейската народна партия (Християндемократи), а нашето общо желание. Ако успеем да го изразим днес на институционална основа, това ще бъде голям успех за Европейския парламент. Ето защо оттегляме предложението.\n",
      "\n",
      "\n",
      "cs example: \n",
      "Za druhé lituji mírně umělého nesouhlasu v otázce daně z finančních transakcí a toho, že zde jsou dva velmi podobné pozměňovací návrhy. Lituji, že v důsledku toho nemůže Parlament vyjádřit svou naprostou podporu této dani za podmínek přiměřených s ohledem na konkurenceschopnost Evropy.(DE) Paní předsedající, panu Gauzèsovi mohu říci: ano, hodláme stáhnout tento návrh alternativního řešení. Doporučil jsem to své skupině z velmi prostého důvodu: následující pozměňovací návrh, který podepsalo  poslanců ze všech skupin, ukazuje, že návrhy ohledně daně z finančních transakcí nejsou výsadou žádné skupiny, ať socialistů, konzervativců, skupiny Evropské lidové strany (Křesťanských demokratů) nebo skupiny Zelených/Evropské svobodné aliance. Jde o to, že předkládáme institucionální návrh a vysíláme institucionální signál, že tato sněmovna je schopna napříč stranami říci: \"Chceme, aby soukromý sektor platil svůj podíl na řešení břemene krize.\" To není socialistický požadavek nebo požadavek skupiny PPE; je to naše společné přání. Pokud se nám podaří to dnes vyjádřit na institucionální úrovni, bude to velký úspěch pro Evropský parlament. Proto tento návrh stahujeme.\n",
      "\n",
      "\n",
      "da example: \n",
      "For det andet beklager jeg, at der er skabt en lidt kunstig modsætning vedrørende spørgsmålet om en skat på finansielle transaktioner, og at der er to meget enslydende ændringsforslag. Jeg beklager, at Parlamentet af den grund ikke kan udtrykke overvældende støtte til denne skat under forhold, der er rimelige med hensyn til Europas konkurrenceevne.(DE) Fru formand! Jeg kan sige følgende til hr. Gauzès: Ja, vi agter at trække forslaget til alternativ beslutning tilbage. Det anbefalede jeg min gruppe af en meget enkel grund, nemlig at følgende ændringsforslag, der er underskrevet af  medlemmer fra alle grupper, viser, at forslagene vedrørende en skat på finansielle transaktioner ikke er forbeholdt en bestemt gruppe, uanset om det er Socialisterne, de Konservative, Det Europæiske Folkepartis Gruppe (Kristelige Demokrater) eller Gruppen De Grønne/Den Europæiske Fri Alliance. Sagen er, at vi stiller et institutionelt forslag og sender et institutionelt signal om, at Parlamentet på tværs af partier og grupper kan sige, at vi ønsker, at den private sektor betaler sin andel af håndteringen af krisens byrde. Det er ikke et krav fra Socialdemokraterne eller PPE-Gruppen, det er vores fælles ønske. Hvis det lykkes os at sende dette signal i dag på et institutionelt grundlag, er det en stor succes for Parlamentet. Derfor trækker vi vores forslag tilbage.\n",
      "\n",
      "\n",
      "de example: \n",
      "Zweitens bedauere ich, dass sich zu dem Thema der Besteuerung von Finanztransaktionen eine etwas künstliche Opposition gebildet hat, und dass es dazu zwei sehr ähnliche Änderungsanträge gibt. Ich bedauere, dass das Parlament demzufolge nicht in der Lage ist, seine überwältigende Zustimmung für diese Steuer unter Bedingungen auszudrücken, die im Hinblick auf die europäische Wettbewerbsfähigkeit angemessen sind.Frau Präsidentin! Ich kann dem Kollegen Gauzès sagen: Ja, wir werden diesen Entwurf einer alternativen Entschließung zurückziehen. Ich habe meiner Fraktion aus einem ganz einfachen Grund empfohlen, das zu tun: Der folgende Änderungsantrag, den  Kolleginnen und Kollegen aus allen Fraktionen unterzeichnet haben, zeigt, dass es bei der Diskussion über eine Finanztransaktionssteuer nicht um einen sozialistischen oder einen konservativen oder einen EVP- oder einen Grünen-Vorschlag geht. Es geht darum, dass wir einen institutionellen Vorschlag machen, ein institutionelles Signal setzen, dass dieses Haus über die Grenzen der Fraktionen hinweg in der Lage ist zu sagen: \"Wir wollen, dass der privatwirtschaftliche Sektor seinen Anteil an der Bewältigung der Krisenlasten trägt.\" Das ist nichts Sozialistisches, das ist nicht EVP, das ist unser gemeinsamer Wille. Wenn wir das heute institutionell zum Ausdruck bringen wollen, dann ist das ein großer Erfolg für das Europäische Parlament. Deshalb ziehen wir diesen Antrag zurück.\n",
      "\n",
      "\n",
      "el example: \n",
      "Δεύτερον, λυπούμαι για το γεγονός ότι έχει προκύψει μια κάπως επίπλαστη εναντίωση όσον αφορά το θέμα της επιβολής φόρου επί των χρηματοπιστωτικών συναλλαγών και για το γεγονός ότι υπάρχουν δύο παρόμοιες τροπολογίες. Ως εκ τούτου, με θλίβει το γεγονός ότι το Κοινοβούλιο δεν μπορεί να εκφράσει την πλήρη στήριξή του στον εν λόγω φόρο με όρους λογικούς όσον αφορά την ανταγωνιστικότητα της Ευρώπης.(DE) Κυρία Πρόεδρε, είμαι σε θέση να πω στον κ. Gauzès το εξής: ναι, σκοπεύουμε να αποσύρουμε αυτό το σχέδιο εναλλακτικού ψηφίσματος. Το πρότεινα στην Ομάδα μου για έναν πολύ απλό λόγο: η τροπολογία που ακολουθεί, η οποία υπογράφηκε από  βουλευτές όλων των Ομάδων, αποδεικνύει ότι οι προτάσεις που αφορούν την επιβολή φόρου επί των χρηματοπιστωτικών συναλλαγών δεν αποτελούν αποκλειστικό τομέα ενδιαφέροντος καμίας Ομάδας· ούτε των Σοσιαλιστών, ούτε των Συντηρητικών, ούτε της Ομάδας του Ευρωπαϊκού Λαϊκού Κόμματος (Χριστιανοδημοκράτες) ούτε της Ομάδας των Πρασίνων/Ευρωπαϊκή Ελεύθερη Συμμαχία. Το θέμα είναι ότι κάνουμε μια θεσμική πρόταση και στέλνουμε ένα θεσμικό μήνυμα που το Σώμα αυτό είναι σε θέση να απευθύνει σε διακομματική βάση: \"Θέλουμε ο ιδιωτικός τομέας να επωμιστεί το μερίδιο που του αναλογεί όσον αφορά το φορτίο της κρίσης\". Δεν πρόκειται για σοσιαλιστική απαίτηση ή για απαίτηση της Ομάδας PPE· είναι κοινή επιθυμία μας. Εάν καταφέρουμε να το εκφράσουμε αυτό σήμερα σε θεσμική βάση, θα αποτελέσει σημαντικότατη επιτυχία για το Ευρωπαϊκό Κοινοβούλιο. Για τον λόγο αυτόν, αποσύρουμε την εν λόγω πρόταση.\n",
      "\n",
      "\n",
      "en example: \n"
     ]
    },
    {
     "name": "stdout",
     "output_type": "stream",
     "text": [
      "Secondly, I regret that a slightly artificial opposition has emerged on the issue of a tax on financial transactions and that there are two very similar amendments. I regret that, as a result, Parliament cannot express its overwhelming support for this tax in conditions that are reasonable with regard to Europe's competitiveness.(DE) Madam President, I can tell Mr Gauzès this: yes, we intend withdrawing this draft for an alternative resolution. I recommended this to my group for a very simple reason: The following amendment, which has been signed by  Members from all groups, shows that proposals regarding a financial transaction tax are not the preserve of any one group, whether the socialists, conservatives, the Group of the European People's Party (Christian Democrats) or the Group of the Greens/European Free Alliance. The point is that we are making an institutional proposal and issuing an institutional signal that this House is capable of saying on a cross-party basis: 'We want the private sector to pay its share in dealing with the burden of the crisis'. This is not a socialist demand, or a PPE Group demand; it is our common wish. If we manage to express this today on an institutional basis, then this will be a major success for the European Parliament. This is why we are withdrawing this motion.\n",
      "\n",
      "\n",
      "es example: \n",
      "En segundo lugar, lamento que haya emergido una oposición un tanto artificial en torno a la cuestión de un impuesto sobre las transacciones financieras y que haya dos enmiendas muy similares. Lamento que, como resultado, el Parlamento no pueda expresar su apoyo abrumador a este impuesto en las condiciones que sean razonables con respecto a la competitividad de Europa.(DE) Señora Presidenta, puedo decirle al señor Gauzès lo siguiente: sí, tenemos la intención de retirar ese proyecto de resolución alternativa. He recomendado esa opción a mi Grupo por un motivo muy sencillo: la siguiente enmienda, firmada por  diputados de todos los grupos, muestra que las propuestas en relación con un impuesto sobre las transacciones financieras no son exclusivas de un solo grupo, sean los socialistas, los conservadores, el Grupo del Partido Popular Europeo (Demócrata-cristianos) o el Grupo de los Verdes/Alianza Libre Europea. Lo importante es que estamos formulando una propuesta institucional y enviando una señal institucional en el sentido de que esta Cámara puede afirmar, sobre una base transversal a todos los partidos, lo siguiente: \"queremos que el sector privado ponga su parte para hacer frente a las cargas de la crisis\". Ello no es una demanda socialista ni del Grupo PPE: es nuestro deseo común. Si somos capaces de expresar hoy esta idea sobre una base institucional, será un gran éxito para el Parlamento Europeo. Por ello vamos a retirar esa propuesta.\n",
      "\n",
      "\n",
      "et example: \n",
      "Teiseks on mul kahju sellest, et finantstehingute maksu puhul on tekkinud pisut kunstlik opositsioon ja et esitatud on kaks väga sarnast muudatusettepanekut. Selle tulemusel ei saa Euroopa Parlament kahjuks väljendada sellele maksule oma väga suurt toetust tingimustes, mis on Euroopa konkurentsivõime seisukohast mõistlikud.(DE) Austatud juhataja! Võin öelda Jean-Paul Gauzèsile üht: meil on tõepoolest kavas see alternatiivse resolutsiooni ettepanek tagasi võtta. Soovitasin seda oma fraktsioonile väga lihtsal põhjusel - järgnenud muudatusettepanek, millele on alla kirjutanud  parlamendiliiget kõikidest fraktsioonidest, näitab, et finantstehingute maksu puudutavad ettepanekud ei ole vaid ühe fraktsiooni pärusmaa, olgu tegemist sotsiaaldemokraatide, konservatiivide, Euroopa Rahvapartei (kristlike demokraatide) fraktsiooni või Roheliste / Euroopa Vabaliidu fraktsiooniga. Eesmärk on teha institutsiooniline ettepanek ja edastada institutsiooniline sõnum Euroopa Parlamendi võime kohta avaldada parteiüleselt soovi, et erasektor maksaks kriisikoormaga toimetulekul oma osa. See ei ole sotsiaaldemokraatide ega fraktsiooni PPE nõue, see on meie ühine soov. Kui me suudame seda täna institutsioonilisel tasandil väljendada, oleks see Euroopa Parlamendi jaoks suur saavutus. Seepärast võtame selle ettepaneku tagasi.\n",
      "\n",
      "\n",
      "fi example: \n",
      "Toiseksi pahoittelen sitä, että transaktiomaksu on herättänyt hieman keinotekoista vastustusta ja että siitä on jätetty kaksi hyvin samanlaista tarkistusta. Pahoittelen sitä, että sen takia Euroopan parlamentti ei voi ilmaista huomattavaa tukeaan kyseiselle verolle EU:n kilpailukyvyn kannalta järkevin ehdoin.(DE) Arvoisa puhemies, voin sanoa Jean-Paul Gauzès'lle seuraavaa: kyllä, me aiomme vetää pois vaihtoehtoisen päätöslauselmaesityksen. Suosittelen sitä ryhmälleni hyvin yksinkertaisesta syystä: seuraava tarkistus, jonka on allekirjoittanut  jäsentä kaikista ryhmistä, osoittaa, että keskustelu transaktiomaksusta ei ole minkään yksittäisen ryhmän ehdotus, ei sosialistien, konservatiivien, Euroopan kansanpuolueen (kristillisdemokraatit) eikä Vihreät / Euroopan vapaa allianssi -ryhmän. Asian ydin on se, että me teemme institutionaalisen ehdotuksen ja lähetämme institutionaalisen viestin siitä, että tämä parlamentti pystyy sanomaan puoluerajat ylittäen: \"haluamme yksityisen sektorin maksavan osansa kriisin taakan kantamisesta\". Kyse ei ole sosialistien vaatimuksesta tai Euroopan kansanpuolueen vaatimuksesta; se on yhteinen toiveemme. Jos onnistumme siinä tänään institutionaaliselta pohjalta, niin se on suuri menestys Euroopan parlamentille. Siksi me vedämme päätöslauselmaesityksen pois.\n",
      "\n",
      "\n",
      "fr example: \n",
      "En second lieu, je regrette qu'une opposition un peu factice soit intervenue sur la question de la taxe financière et qu'il y ait deux amendements qui soient très proches l'un de l'autre. Je regrette qu'ainsi le Parlement ne puisse pas manifester de façon massive son approbation à cette taxe dans des conditions qui soient des conditions raisonnables au regard de la compétitivité de l'Europe.(DE) Madame la Présidente, je dirai ceci à M. Gauzès: oui, nous comptons retirer notre proposition de résolution alternative. Je l'ai conseillé à mon groupe, pour une raison toute simple: l'amendement a été signé par cent vingt députés de tous les groupes politiques, preuve que les propositions de taxe sur les transactions financières ne sont pas l'apanage d'un groupe, que ce soit le groupe des socialistes, les conservateurs, le Parti populaire européen (Démocrates-Chrétiens) ou le groupe Verts/Alliance libre européenne. C'est une proposition institutionnelle qui envoie un signal institutionnel selon lequel la présente Assemblée est capable de dire, tous partis confondus: \"Nous voulons que le secteur privé paie sa part dans la gestion de la crise\". Ce n'est pas une requête socialiste ou une demande émanant du groupe PPE. C'est notre volonté à tous. Si nous parvenons à l'exprimer aujourd'hui, sur une base institutionnelle, le Parlement européen aura remporté une belle victoire. Voila pourquoi nous retirons la proposition.\n",
      "\n",
      "\n",
      "hu example: \n",
      "Továbbá azt is sajnálatosnak tartom, hogy a pénzügyi műveletek megadóztatásával szemben némileg mesterkélt ellenállás alakult ki, és két igen hasonló módosítás született. Ugyancsak sajnálom, hogy ennek eredményeképpen a Parlament nem támogatja kellő határozottsággal ezen adónak az európai versenyképesség szempontjából indokolt feltételeit.(DE) Elnök asszony, Gauzčs úr kérésére reagálva szeretném elmondani, hogy egy alternatív állásfoglalás ellenében vissza kívánjuk vonni a tervezetet. A képviselőcsoportomnak is ezt javasoltam, mégpedig azon egyszerű ok miatt, hogy az alábbi - az összes képviselőcsoport  képviselője által aláírt - módosításból kiderül, a pénzügyi műveletekre kivetendő adót érintő javaslatok nem egyetlen csoport álláspontját képviselik, legyen szó akár a szocialistákról, a konzervatívokról, az Európai Néppárt (Kereszténydemokraták) Képviselőcsoportról, akár a Zöldek/az Európai Szabad Szövetség Képviselőcsoportjáról. A lényeg az, hogy intézményi javaslatot teszünk, és intézményi jelét adjuk annak, hogy ez a Ház képes pártokon átívelő véleményt megfogalmazni: \"Szeretnénk, ha a magánszektor is kivenné a részét a válság okozta terhek ellensúlyozásában”. Ez nem a szocialisták vagy a kereszténydemokraták követelése, hanem általános elvárás. Ha ma ezt képesek leszünk intézményi alapon kinyilvánítani, azt az Európai Parlament jelentős sikerének tekinthetjük. Ezért vonjuk vissza az indítványt.\n",
      "\n",
      "\n",
      "it example: \n"
     ]
    },
    {
     "name": "stdout",
     "output_type": "stream",
     "text": [
      "In secondo luogo, mi rincresce che sia emersa una opposizione leggermente artificiosa riguardo alla questione della tassa sulle transazioni finanziarie e che esistano due emendamenti molto simili. Di conseguenza mi rincresce che il Parlamento non possa esprimere il pieno sostegno per questa imposizione alle condizioni più ragionevoli per la competitività dell'Europa.(DE) Signora Presidente, rispondo all'onorevole Gauzès che, sì, intendiamo ritirare questa proposta di risoluzione alternativa e ho invitato il mio gruppo a procedere in tal senso per un motivo molto semplice: l'emendamento sottoscritto dai  membri di tutti i gruppi dimostra che le proposte relative alla tassa sulle transazioni finanziarie non sono appannaggio di alcun gruppo in particolare, sia esso socialista, conservatore, il gruppo del Partito popolare europeo (Democratico cristiano) o il gruppo Verde/Alleanza libera europea. Il punto è che stiamo formulando una proposta istituzionale e lanciando un segnale istituzionale a dimostrazione della capacità di questa Assemblea di dichiarare trasversalmente: \"Vogliamo che anche il settore privato si assuma l'onere della crisi”. Non si tratta di una richiesta avanzata dai socialisti né dal gruppo del Partito popolare europeo, bensì di una volontà comune. Se riusciremo a far pervenire questo messaggio istituzionale, il Parlamento europeo avrà raggiunto un grande traguardo. Questo è il motivo per cui ritireremo la proposta.\n",
      "\n",
      "\n",
      "lt example: \n",
      "Antra, apgailestauju, kad parodytas šiek tiek dirbtinis pasipriešinimas finansinių sandorių apmokestinimui ir pateikti du labai panašūs pakeitimai. Gaila, kad dėl to Parlamentas negali labai tvirtai pritarti šiam mokesčiui tokiomis sąlygomis, kurios būtų pagrįstos Europos konkurencingumo atžvilgiu.(DE) Ponia pirmininke, norėčiau atsakyti J. P. Gauzès: taip, ketiname atsiimti alternatyvios rezoliucijos projektą. Savo frakcijai tai siūlau dėl itin paprastos priežasties: šis pakeitimas, kurį pasiraš visų frakcijų narių, rodo, kad pasiūlymams dėl finansinių sandorių apmokestinimo nepritaria jokios frakcijos, nei socialistų, nei konservatorių, nei Europos liaudies partijos (krikščionių demokratų) frakcija ar Žaliųjų frakcija / Europos laisvasis aljansas. Esmta, kad pateikiame institucinį pasiūlymą ir siunčiame institucinį ženklą, kad šis Parlamentas gali remtis frakciniu principu ir teigti: \"Pageidaujame, kad privatusis sektorius sumokėtų savo dalį sprendžiant krizės sukeltas problemas\". Tai nėra socialistų ar PPE frakcijos reikalavimas, tai bendras visų pageidavimas. Jei šiandien tai sugebėsime išreikšti instituciniu požiūriu, tai bus didžiulEuropos Parlamento sėkmė. Todėl atsiimame šį pasiūlymą.\n",
      "\n",
      "\n",
      "lv example: \n",
      "Otrkārt, man ar nožēlu jāatzīst, ka ir radusies nedaudz mākslīga opozīcija jautājumam par finanšu darījumu nodokli un ir piedāvāti divi ļoti līdzīgi grozījumi. Diemžēl tā rezultātā Parlaments nevar izteikt milzīgu atbalstu šim nodoklim situācijā, kad tas ir pieņemami no Eiropas konkurētspējas viedokļa.(DE) Priekšsēdētājas kundze! Es vēlētos atbildēt Gauzès kundzei: \"Jā, mēs plānojam atsaukt šo projektu, lai iesniegtu alternatīvu rezolūciju. Es grupai ieteikšu to darīt vienkārša iemesla dēļ - šie grozījumi, kurus ir parakstījuši  biedri no visām grupām, norāda uz to, ka priekšlikumi par finanšu darījumu nodokļiem neattiecas tikai uz kādu vienu grupu neatkarīgi no tā, vai tie būtu sociālisti, konservatīvie, Eiropas Tautas partijas grupa (Kristīgie demokrāti) vai Zaļo un Eiropas Brīvās apvienības grupa. Būtībā mēs radām institucionālu priekšlikumu un sūtām institucionālu signālu, ka šis Parlaments spēj formulēt dažādu grupu kopējo viedokli: \"Mēs vēlamies, lai privātais sektors ieguldītu savu artavu šīs krīzes pārvarēšanā.” Tā nav sociālistu vai PPE grupas prasība, bet gan mūsu kopējā vēlme. Ja mēs šodien varam izteikt institucionālu viedokli, tad tas būs ievērojams Eiropas Parlamenta panākums. Tādēļ mēs atsaucam savu priekšlikumu.\n",
      "\n",
      "\n",
      "nl example: \n",
      "Ook betreur ik het dat er een enigszins artificiële oppositie is ontstaan in de kwestie van een belasting op financiële transacties en dat er twee haast identieke amendementen zijn. Tot mijn spijt kan het Parlement hierdoor niet zijn overweldigende steun uitspreken voor deze belasting in omstandigheden die redelijk zijn voor Europa's concurrentievermogen.(DE) Mevrouw de Voorzitter, ik kan de heer Gauzès dit vertellen: ja, wij zijn van plan om deze alternatieve ontwerpresolutie in te trekken. Ik heb mijn fractie aanbevolen dit te doen om een heel eenvoudige reden: het volgende amendement dat ondertekend is door  leden uit alle fracties, laat zien dat voorstellen voor een belasting op financiële transacties niet voorbehouden zijn aan één fractie, of het nu de socialistische, de conservatieve, de Fractie van de Europese Volkspartij (Christendemocraten) of de Fractie De Groenen/Vrije Europese Alliantie is. Het gaat erom dat wij een institutioneel voorstel doen en een institutioneel signaal afgeven dat dit Parlement in staat is om over de grenzen van de fracties heen te zeggen: \"Wij willen dat de particuliere sector zijn steentje bijdraagt aan het oplossen van de crisis.” Dit is geen socialistische eis, of een eis van de PPE-Fractie; het is onze gemeenschappelijke wens. Als het ons vandaag lukt om dit institutioneel tot uitdrukking te brengen, zal dit een groot succes zijn voor het Europees Parlement. Daarom trekken wij deze motie in.\n",
      "\n",
      "\n",
      "pl example: \n",
      "Po drugie, ubolewam, że pojawił się nieco sztuczny sprzeciw wobec podatku od transakcji finansowych i że zgłoszono dwie bardzo podobne poprawki. Ubolewam też, że w związku z tym Parlament nie może wyrazić swego ogromnego poparcia dla tego podatku w warunkach, które są racjonalnie uzasadnione z punktu widzenia konkurencyjności Europy.(DE) Pani Przewodnicząca! Panu posłowi Gauzèsowi mogę powiedzieć, co następuje: owszem, zamierzamy wycofać ten alternatywny projekt rezolucji. Taką propozycję złożyłem swojej grupie z bardzo prostej przyczyny: poprawka, pod którą podpisało się  posłów ze wszystkich grup, świadczy o tym, że propozycje dotyczące podatku od transakcji finansowych nie są domeną tylko jednej grupy, ani socjalistów, konserwatystów, Grupy Europejskiej Partii Ludowej (Chrześcijańskich Demokratów). ani Grupy Zielonych/Wolnego Przymierza Europejskiego. Chodzi o to, że opracowujemy projekt instytucjonalny i przekazujemy komunikat instytucjonalny, że ten Parlament potrafi powiedzieć ponad partyjnymi różnicami: \"Chcemy, żeby sektor prywatny miał swój udział w kosztach radzenia sobie z ciężarem kryzysu”. To nie jest żądanie socjalistów ani grupy PPE, lecz nasze wspólne życzenie. Jeśli uda nam się wyrazić je na gruncie instytucjonalnym, będzie to wielki sukces Parlamentu Europejskiego. W związku z tym wycofujemy ten projekt.\n",
      "\n",
      "\n",
      "pt example: \n"
     ]
    },
    {
     "name": "stdout",
     "output_type": "stream",
     "text": [
      "Em segundo lugar, lamento que uma oposição algo artificial tenha emergido sobre a questão do imposto sobre transacções financeiras e que existam duas alterações muito semelhantes. Lamento que, como resultado disso, o Parlamento não possa expressar o seu apoio esmagador a esse imposto em condições que sejam razoáveis face à competitividade da Europa.(DE) Senhora Presidente, posso dizer ao senhor deputado Jean-Paul Gauzès o seguinte: sim, tencionamos retirar esta proposta de resolução alternativa. Foi essa a recomendação que fiz ao meu Grupo e por uma razão muito simples: a alteração que se segue, que foi assinada por  deputados de todos os grupos, mostra que as propostas relativas a um imposto sobre transacções financeiras não são propriedade de qualquer Grupo, dos Conservadores, dos Socialistas, do Grupo do Partido Popular Europeu (Democratas-Cristãos), ou do Grupo dos Verdes/Aliança Livre Europeia. A ideia é apresentar uma proposta institucional e emitir um sinal institucional de que esta Câmara é capaz de forma transversal a todos os grupos políticos: \"Queremos que o sector privado pague a sua quota-parte dos encargos da crise\". Esta não é uma exigência socialista, ou uma exigência do Grupo PPE, é o nosso desejo comum. Se conseguirmos expressar esta ideia, hoje, de forma institucional, então isso representará um enorme êxito para o Parlamento Europeu. Essa a razão que nos leva a retirar a proposta.\n",
      "\n",
      "\n",
      "ro example: \n",
      "Corectările voturilor şi intenţiile de vot: a se vedea procesul-verbal\n",
      "\n",
      "\n",
      "sk example: \n",
      "Po druhé, je mi ľúto, že sa vytvorila mierne umelá opozícia v otázke dane z finančných transakcií a že máme dva veľmi podobné pozmeňujúce a doplňujúce návrhy. Je mi ľúto, že z tohto dôvodu Parlament nemôže vyjadriť výraznú podporu tejto dani za podmienok, ktoré sú opodstatnené z hľadiska konkurencieschopnosti Európy.(DE) Pánovi Gauzèsovi môžem povedať toto: áno, máme v úmysle stiahnuť tento návrh alternatívneho riešenia. Odporučil som to našej skupine z veľmi jednoduchého dôvodu: nasledujúci pozmeňujúci a doplňujúci návrh, ktorý podpísalo  poslancov zo všetkých skupín, ukazuje, že návrhy týkajúce sa dane z finančných transakcií nie sú doménou len jednej skupiny, či už socialistov, konzervatívcov, Poslaneckého klubu Európskej ľudovej strany (kresťanských demokratov), alebo Skupiny zelených/Európskej slobodnej aliancie. Ide o to, že predkladáme inštitucionálny návrh a vydávame inštitucionálny signál, že v tomto Parlamente dokážu rôzne strany spoločne povedať, že chceme, aby súkromný sektor zaplatil svoj podiel na riešení problémov krízy. Nie je to požiadavka socialistov ani požiadavka poslaneckého klubu PPE, ale je to naše spoločné želanie. Ak sa nám to dnes podarí vyjadriť na inštitucionálnom základe, bude to veľkým úspechom Európskeho parlamentu. To je dôvod, prečo sťahujeme tento návrh.\n",
      "\n",
      "\n",
      "sl example: \n",
      "Drugič, obžalujem, da je glede davka na finančne transakcije nastalo rahlo umetno nasprotovanje in imamo dva zelo pomembna predloga sprememb. Obžalujem, da Parlament zato ne more izraziti prepričljive podpore temu davku pri pogojih, ki so sprejemljivi glede konkurenčnosti Evrope.(DE) Gospa predsednica, gospodu Gauzèsu lahko rečem tole: da, nameravamo umakniti ta osnutek alternativnega predloga. Svoji skupini sem to predlagal iz zelo preprostega razloga: Ta predlog spremembe, ki ga je podpisalo  poslancev iz vseh skupin, kaže, da predlogi v zvezi z davkom na finančne transakcije, niso v pristojnosti nobene skupine, pa naj bodo to socialisti, konservativci, Poslanska skupina Evropske ljudske stranke (Krščanskih demokratov) ali Skupina Zelenih/Evropske svobodne zveze. Bistvo je, da pripravljamo institucionalni predlog in pošiljamo institucionalni signal, da je ta parlament sposoben povedati nadstrankarsko: \"Hočemo, da zasebni sektor plača svoj delež, ko se spopadamo z bremenom krize\". To ni zahteva socialistov ali skupine PPE, to je skupna želja. Če nam danes to uspe izraziti na institucionalni podlagi, potem bo to velik uspeh za Evropski parlament. Zato umikamo ta predlog.\n",
      "\n",
      "\n",
      "sv example: \n",
      "För det andra beklagar jag att det har framkommit ett något artificiellt motstånd i frågan om skatt på finansiella transaktioner och att det finns två mycket likartade ändringsförslag. Jag beklagar att parlamentet därigenom inte kan uttrycka sitt överväldigande stöd för denna skatt på ett sätt som är rimligt med hänsyn till EU:s konkurrenskraft.(DE) Fru talman! Jag kan säga följande till Jean-Paul Gauzès: ja, vi tänker dra tillbaka detta förslag till alternativ resolution. Jag rekommenderade min grupp att göra så av en mycket enkel anledning: Följande ändringsförslag, som har undertecknats av  ledamöter från alla grupper, visar att förslagen om en skatt på finansiella transaktioner inte är något som bara intresserar en enda grupp, vare sig det gäller socialister, konservativa, Europeiska folkpartiets grupp (kristdemokrater) eller gruppen De gröna/Europeiska fria alliansen. Poängen är att vi lägger fram ett institutionellt förslag och sänder en institutionell signal om att parlamentet över partigränserna kan säga: \"Vi vill att den privata sektorn ska betala sin andel av bördorna på grund av krisen”. Detta är inte något socialistiskt krav, inte något krav från PPE-gruppen, utan det är vår gemensamma önskan. Om vi lyckas uttrycka detta i dag på en institutionell grundval kommer detta att vara en mycket stor famgång för Europaparlamentet. Detta är anledningen till att vi drar tillbaka detta förslag.\n",
      "\n",
      "\n"
     ]
    }
   ],
   "source": [
    "for lang in df['language'].unique():\n",
    "    print(\"{} example: \".format(lang))\n",
    "    print(\"{}\".format(df[df['language']==lang].iloc[0]['paragraphs']))\n",
    "    print('\\n')"
   ]
  },
  {
   "cell_type": "markdown",
   "metadata": {},
   "source": [
    "### Save data for future use"
   ]
  },
  {
   "cell_type": "code",
   "execution_count": 154,
   "metadata": {
    "collapsed": true
   },
   "outputs": [],
   "source": [
    "df.to_csv('./Clean/clean_all_data.csv', encoding='utf-8', index=False)"
   ]
  },
  {
   "cell_type": "code",
   "execution_count": 155,
   "metadata": {
    "collapsed": true
   },
   "outputs": [],
   "source": [
    "df_lan = pd.read_csv('./Clean/clean_all_data.csv')"
   ]
  },
  {
   "cell_type": "code",
   "execution_count": 156,
   "metadata": {},
   "outputs": [
    {
     "data": {
      "text/html": [
       "<div>\n",
       "<style>\n",
       "    .dataframe thead tr:only-child th {\n",
       "        text-align: right;\n",
       "    }\n",
       "\n",
       "    .dataframe thead th {\n",
       "        text-align: left;\n",
       "    }\n",
       "\n",
       "    .dataframe tbody tr th {\n",
       "        vertical-align: top;\n",
       "    }\n",
       "</style>\n",
       "<table border=\"1\" class=\"dataframe\">\n",
       "  <thead>\n",
       "    <tr style=\"text-align: right;\">\n",
       "      <th></th>\n",
       "      <th>language</th>\n",
       "      <th>num</th>\n",
       "      <th>paragraphs</th>\n",
       "    </tr>\n",
       "  </thead>\n",
       "  <tbody>\n",
       "    <tr>\n",
       "      <th>0</th>\n",
       "      <td>bg</td>\n",
       "      <td>0.0</td>\n",
       "      <td>Второ, съжалявам, че се появи малко изкуствено...</td>\n",
       "    </tr>\n",
       "    <tr>\n",
       "      <th>1</th>\n",
       "      <td>bg</td>\n",
       "      <td>0.0</td>\n",
       "      <td>Поправки и намерения за гласуване: вж. протоколи</td>\n",
       "    </tr>\n",
       "    <tr>\n",
       "      <th>2</th>\n",
       "      <td>bg</td>\n",
       "      <td>0.0</td>\n",
       "      <td>Въпроси за устен отговор и писмени декларации ...</td>\n",
       "    </tr>\n",
       "    <tr>\n",
       "      <th>3</th>\n",
       "      <td>bg</td>\n",
       "      <td>0.0</td>\n",
       "      <td>Писмени декларации (внасяне): вж. протокола</td>\n",
       "    </tr>\n",
       "    <tr>\n",
       "      <th>4</th>\n",
       "      <td>bg</td>\n",
       "      <td>0.0</td>\n",
       "      <td>Положението в Република Молдова (разискване)Сл...</td>\n",
       "    </tr>\n",
       "  </tbody>\n",
       "</table>\n",
       "</div>"
      ],
      "text/plain": [
       "  language  num                                         paragraphs\n",
       "0       bg  0.0  Второ, съжалявам, че се появи малко изкуствено...\n",
       "1       bg  0.0   Поправки и намерения за гласуване: вж. протоколи\n",
       "2       bg  0.0  Въпроси за устен отговор и писмени декларации ...\n",
       "3       bg  0.0        Писмени декларации (внасяне): вж. протокола\n",
       "4       bg  0.0  Положението в Република Молдова (разискване)Сл..."
      ]
     },
     "execution_count": 156,
     "metadata": {},
     "output_type": "execute_result"
    }
   ],
   "source": [
    "df_lan.head()"
   ]
  },
  {
   "cell_type": "markdown",
   "metadata": {},
   "source": [
    "### Data overview"
   ]
  },
  {
   "cell_type": "code",
   "execution_count": 157,
   "metadata": {},
   "outputs": [
    {
     "data": {
      "text/html": [
       "<div>\n",
       "<style>\n",
       "    .dataframe thead tr:only-child th {\n",
       "        text-align: right;\n",
       "    }\n",
       "\n",
       "    .dataframe thead th {\n",
       "        text-align: left;\n",
       "    }\n",
       "\n",
       "    .dataframe tbody tr th {\n",
       "        vertical-align: top;\n",
       "    }\n",
       "</style>\n",
       "<table border=\"1\" class=\"dataframe\">\n",
       "  <thead>\n",
       "    <tr style=\"text-align: right;\">\n",
       "      <th></th>\n",
       "      <th>num</th>\n",
       "      <th>paragraphs</th>\n",
       "    </tr>\n",
       "    <tr>\n",
       "      <th>language</th>\n",
       "      <th></th>\n",
       "      <th></th>\n",
       "    </tr>\n",
       "  </thead>\n",
       "  <tbody>\n",
       "    <tr>\n",
       "      <th>bg</th>\n",
       "      <td>91645</td>\n",
       "      <td>91645</td>\n",
       "    </tr>\n",
       "    <tr>\n",
       "      <th>cs</th>\n",
       "      <td>158268</td>\n",
       "      <td>158268</td>\n",
       "    </tr>\n",
       "    <tr>\n",
       "      <th>da</th>\n",
       "      <td>519588</td>\n",
       "      <td>519588</td>\n",
       "    </tr>\n",
       "    <tr>\n",
       "      <th>de</th>\n",
       "      <td>505058</td>\n",
       "      <td>505058</td>\n",
       "    </tr>\n",
       "    <tr>\n",
       "      <th>el</th>\n",
       "      <td>352257</td>\n",
       "      <td>352257</td>\n",
       "    </tr>\n",
       "    <tr>\n",
       "      <th>en</th>\n",
       "      <td>536291</td>\n",
       "      <td>536291</td>\n",
       "    </tr>\n",
       "    <tr>\n",
       "      <th>es</th>\n",
       "      <td>511893</td>\n",
       "      <td>511893</td>\n",
       "    </tr>\n",
       "    <tr>\n",
       "      <th>et</th>\n",
       "      <td>157576</td>\n",
       "      <td>157576</td>\n",
       "    </tr>\n",
       "    <tr>\n",
       "      <th>fi</th>\n",
       "      <td>496075</td>\n",
       "      <td>496075</td>\n",
       "    </tr>\n",
       "    <tr>\n",
       "      <th>fr</th>\n",
       "      <td>528926</td>\n",
       "      <td>528926</td>\n",
       "    </tr>\n",
       "    <tr>\n",
       "      <th>hu</th>\n",
       "      <td>153364</td>\n",
       "      <td>153364</td>\n",
       "    </tr>\n",
       "    <tr>\n",
       "      <th>it</th>\n",
       "      <td>525176</td>\n",
       "      <td>525176</td>\n",
       "    </tr>\n",
       "    <tr>\n",
       "      <th>lt</th>\n",
       "      <td>155371</td>\n",
       "      <td>155371</td>\n",
       "    </tr>\n",
       "    <tr>\n",
       "      <th>lv</th>\n",
       "      <td>155397</td>\n",
       "      <td>155397</td>\n",
       "    </tr>\n",
       "    <tr>\n",
       "      <th>nl</th>\n",
       "      <td>522886</td>\n",
       "      <td>522886</td>\n",
       "    </tr>\n",
       "    <tr>\n",
       "      <th>pl</th>\n",
       "      <td>155680</td>\n",
       "      <td>155680</td>\n",
       "    </tr>\n",
       "    <tr>\n",
       "      <th>pt</th>\n",
       "      <td>522647</td>\n",
       "      <td>522647</td>\n",
       "    </tr>\n",
       "    <tr>\n",
       "      <th>ro</th>\n",
       "      <td>90710</td>\n",
       "      <td>90710</td>\n",
       "    </tr>\n",
       "    <tr>\n",
       "      <th>sk</th>\n",
       "      <td>156861</td>\n",
       "      <td>156861</td>\n",
       "    </tr>\n",
       "    <tr>\n",
       "      <th>sl</th>\n",
       "      <td>152775</td>\n",
       "      <td>152775</td>\n",
       "    </tr>\n",
       "    <tr>\n",
       "      <th>sv</th>\n",
       "      <td>500089</td>\n",
       "      <td>500089</td>\n",
       "    </tr>\n",
       "  </tbody>\n",
       "</table>\n",
       "</div>"
      ],
      "text/plain": [
       "             num  paragraphs\n",
       "language                    \n",
       "bg         91645       91645\n",
       "cs        158268      158268\n",
       "da        519588      519588\n",
       "de        505058      505058\n",
       "el        352257      352257\n",
       "en        536291      536291\n",
       "es        511893      511893\n",
       "et        157576      157576\n",
       "fi        496075      496075\n",
       "fr        528926      528926\n",
       "hu        153364      153364\n",
       "it        525176      525176\n",
       "lt        155371      155371\n",
       "lv        155397      155397\n",
       "nl        522886      522886\n",
       "pl        155680      155680\n",
       "pt        522647      522647\n",
       "ro         90710       90710\n",
       "sk        156861      156861\n",
       "sl        152775      152775\n",
       "sv        500089      500089"
      ]
     },
     "execution_count": 157,
     "metadata": {},
     "output_type": "execute_result"
    }
   ],
   "source": [
    "#class balance\n",
    "df_lan.groupby('language').count()"
   ]
  },
  {
   "cell_type": "markdown",
   "metadata": {},
   "source": [
    "### To simplify the analyzis I will only use the first 500 paragraphs for each language for now"
   ]
  },
  {
   "cell_type": "code",
   "execution_count": 158,
   "metadata": {
    "collapsed": true
   },
   "outputs": [],
   "source": [
    "df_small = pd.DataFrame({'num' : [],'paragraphs' : [], 'language': []})"
   ]
  },
  {
   "cell_type": "code",
   "execution_count": 159,
   "metadata": {
    "collapsed": true
   },
   "outputs": [],
   "source": [
    "for lang in df['language'].unique():\n",
    "    df_temp = df[df['language']==lang].iloc[:500]\n",
    "    df_small = pd.concat([df_small, df_temp])"
   ]
  },
  {
   "cell_type": "code",
   "execution_count": 160,
   "metadata": {},
   "outputs": [
    {
     "data": {
      "text/plain": [
       "nl    500\n",
       "de    500\n",
       "da    500\n",
       "it    500\n",
       "lv    500\n",
       "sk    500\n",
       "pt    500\n",
       "en    500\n",
       "es    500\n",
       "el    500\n",
       "sl    500\n",
       "fi    500\n",
       "cs    500\n",
       "et    500\n",
       "lt    500\n",
       "ro    500\n",
       "bg    500\n",
       "pl    500\n",
       "sv    500\n",
       "fr    500\n",
       "hu    500\n",
       "Name: language, dtype: int64"
      ]
     },
     "execution_count": 160,
     "metadata": {},
     "output_type": "execute_result"
    }
   ],
   "source": [
    "df_small['language'].value_counts()"
   ]
  },
  {
   "cell_type": "code",
   "execution_count": 161,
   "metadata": {},
   "outputs": [
    {
     "data": {
      "text/html": [
       "<div>\n",
       "<style>\n",
       "    .dataframe thead tr:only-child th {\n",
       "        text-align: right;\n",
       "    }\n",
       "\n",
       "    .dataframe thead th {\n",
       "        text-align: left;\n",
       "    }\n",
       "\n",
       "    .dataframe tbody tr th {\n",
       "        vertical-align: top;\n",
       "    }\n",
       "</style>\n",
       "<table border=\"1\" class=\"dataframe\">\n",
       "  <thead>\n",
       "    <tr style=\"text-align: right;\">\n",
       "      <th></th>\n",
       "      <th>language</th>\n",
       "      <th>num</th>\n",
       "      <th>paragraphs</th>\n",
       "      <th>tokens</th>\n",
       "    </tr>\n",
       "  </thead>\n",
       "  <tbody>\n",
       "    <tr>\n",
       "      <th>0</th>\n",
       "      <td>bg</td>\n",
       "      <td>0.0</td>\n",
       "      <td>Второ, съжалявам, че се появи малко изкуствено...</td>\n",
       "      <td>[Второ, съжалявам, че, се, появи, малко, изкус...</td>\n",
       "    </tr>\n",
       "    <tr>\n",
       "      <th>1</th>\n",
       "      <td>bg</td>\n",
       "      <td>0.0</td>\n",
       "      <td>Поправки и намерения за гласуване: вж. протоколи</td>\n",
       "      <td>[Поправки, и, намерения, за, гласуване, вж, пр...</td>\n",
       "    </tr>\n",
       "    <tr>\n",
       "      <th>2</th>\n",
       "      <td>bg</td>\n",
       "      <td>0.0</td>\n",
       "      <td>Въпроси за устен отговор и писмени декларации ...</td>\n",
       "      <td>[Въпроси, за, устен, отговор, и, писмени, декл...</td>\n",
       "    </tr>\n",
       "    <tr>\n",
       "      <th>3</th>\n",
       "      <td>bg</td>\n",
       "      <td>0.0</td>\n",
       "      <td>Писмени декларации (внасяне): вж. протокола</td>\n",
       "      <td>[Писмени, декларации, внасяне, вж, протокола]</td>\n",
       "    </tr>\n",
       "    <tr>\n",
       "      <th>4</th>\n",
       "      <td>bg</td>\n",
       "      <td>0.0</td>\n",
       "      <td>Положението в Република Молдова (разискване)Сл...</td>\n",
       "      <td>[Положението, в, Република, Молдова, разискван...</td>\n",
       "    </tr>\n",
       "  </tbody>\n",
       "</table>\n",
       "</div>"
      ],
      "text/plain": [
       "  language  num                                         paragraphs  \\\n",
       "0       bg  0.0  Второ, съжалявам, че се появи малко изкуствено...   \n",
       "1       bg  0.0   Поправки и намерения за гласуване: вж. протоколи   \n",
       "2       bg  0.0  Въпроси за устен отговор и писмени декларации ...   \n",
       "3       bg  0.0        Писмени декларации (внасяне): вж. протокола   \n",
       "4       bg  0.0  Положението в Република Молдова (разискване)Сл...   \n",
       "\n",
       "                                              tokens  \n",
       "0  [Второ, съжалявам, че, се, появи, малко, изкус...  \n",
       "1  [Поправки, и, намерения, за, гласуване, вж, пр...  \n",
       "2  [Въпроси, за, устен, отговор, и, писмени, декл...  \n",
       "3      [Писмени, декларации, внасяне, вж, протокола]  \n",
       "4  [Положението, в, Република, Молдова, разискван...  "
      ]
     },
     "execution_count": 161,
     "metadata": {},
     "output_type": "execute_result"
    }
   ],
   "source": [
    "from nltk.tokenize import RegexpTokenizer\n",
    "\n",
    "tokenizer = RegexpTokenizer(r'\\w+') #splits on anything that is not an alphanumeric character\n",
    "\n",
    "df_small['tokens'] = df_small['paragraphs'].apply(tokenizer.tokenize)\n",
    "df_small.head()"
   ]
  },
  {
   "cell_type": "markdown",
   "metadata": {},
   "source": [
    "### The total word count"
   ]
  },
  {
   "cell_type": "code",
   "execution_count": 162,
   "metadata": {},
   "outputs": [
    {
     "name": "stdout",
     "output_type": "stream",
     "text": [
      "bg example: \n",
      "44737 words total, with a vocabulary size of 7803\n",
      "\n",
      "\n",
      "cs example: \n",
      "38509 words total, with a vocabulary size of 9063\n",
      "\n",
      "\n",
      "da example: \n",
      "35196 words total, with a vocabulary size of 5622\n",
      "\n",
      "\n",
      "de example: \n",
      "35554 words total, with a vocabulary size of 6526\n",
      "\n",
      "\n",
      "el example: \n",
      "44044 words total, with a vocabulary size of 8009\n",
      "\n",
      "\n",
      "en example: \n",
      "40435 words total, with a vocabulary size of 4550\n",
      "\n",
      "\n",
      "es example: \n",
      "40676 words total, with a vocabulary size of 5602\n",
      "\n",
      "\n",
      "et example: \n",
      "33238 words total, with a vocabulary size of 9540\n",
      "\n",
      "\n",
      "fi example: \n",
      "25992 words total, with a vocabulary size of 8908\n",
      "\n",
      "\n",
      "fr example: \n",
      "43351 words total, with a vocabulary size of 5375\n",
      "\n",
      "\n",
      "hu example: \n",
      "38324 words total, with a vocabulary size of 10196\n",
      "\n",
      "\n",
      "it example: \n",
      "38215 words total, with a vocabulary size of 5573\n",
      "\n",
      "\n",
      "lt example: \n",
      "34007 words total, with a vocabulary size of 9009\n",
      "\n",
      "\n",
      "lv example: \n",
      "36120 words total, with a vocabulary size of 8757\n",
      "\n",
      "\n",
      "nl example: \n",
      "39937 words total, with a vocabulary size of 5183\n",
      "\n",
      "\n",
      "pl example: \n",
      "38914 words total, with a vocabulary size of 9592\n",
      "\n",
      "\n",
      "pt example: \n",
      "39453 words total, with a vocabulary size of 5761\n",
      "\n",
      "\n",
      "ro example: \n",
      "44329 words total, with a vocabulary size of 7646\n",
      "\n",
      "\n",
      "sk example: \n",
      "39279 words total, with a vocabulary size of 9176\n",
      "\n",
      "\n",
      "sl example: \n",
      "38960 words total, with a vocabulary size of 8606\n",
      "\n",
      "\n",
      "sv example: \n",
      "35726 words total, with a vocabulary size of 5857\n",
      "\n",
      "\n"
     ]
    }
   ],
   "source": [
    "for lang in df['language'].unique():\n",
    "    all_words = [word for tokens in df_small[df_small['language']==lang]['tokens'] for word in tokens]\n",
    "    VOCAB = sorted(list(set(all_words)))\n",
    "    print(\"{} example: \".format(lang))\n",
    "    print(\"{} words total, with a vocabulary size of {}\".format(len(all_words), len(VOCAB)))\n",
    "    print(\"\\n\")"
   ]
  },
  {
   "cell_type": "markdown",
   "metadata": {},
   "source": [
    "## Making a language classifier"
   ]
  },
  {
   "cell_type": "markdown",
   "metadata": {},
   "source": [
    "### Bag of Words Counts (1st model)"
   ]
  },
  {
   "cell_type": "markdown",
   "metadata": {},
   "source": [
    "The simplest approach we can start with is to use a bag of words model, and apply a logistic regression on top. A bag of words just associates an index to each word in our vocabulary, and embeds each sentence as a list of 0s, with a 1 at each index corresponding to a word present in the sentence."
   ]
  },
  {
   "cell_type": "code",
   "execution_count": 163,
   "metadata": {
    "collapsed": true
   },
   "outputs": [],
   "source": [
    "from sklearn.model_selection import train_test_split\n",
    "from sklearn.feature_extraction.text import CountVectorizer\n",
    "\n",
    "def cv(data):\n",
    "    count_vectorizer = CountVectorizer()\n",
    "    emb = count_vectorizer.fit_transform(data)\n",
    "\n",
    "    return emb, count_vectorizer\n",
    "\n",
    "list_corpus = df_small['paragraphs'].tolist()\n",
    "list_labels = df_small['num'].tolist()\n",
    "\n",
    "X_train, X_test, y_train, y_test = train_test_split(list_corpus, list_labels, test_size=0.2, \n",
    "                                                                                random_state=40)\n",
    "\n",
    "X_train_counts, count_vectorizer = cv(X_train)\n",
    "X_test_counts = count_vectorizer.transform(X_test)"
   ]
  },
  {
   "cell_type": "markdown",
   "metadata": {},
   "source": [
    "### Fitting a logistic classifier"
   ]
  },
  {
   "cell_type": "code",
   "execution_count": 164,
   "metadata": {
    "collapsed": true
   },
   "outputs": [],
   "source": [
    "from sklearn.linear_model import LogisticRegression\n",
    "\n",
    "clf = LogisticRegression(C=30.0, class_weight='balanced', solver='newton-cg', \n",
    "                         multi_class='multinomial', n_jobs=-1, random_state=40)\n",
    "\n",
    "clf.fit(X_train_counts, y_train)\n",
    "\n",
    "y_predicted_counts = clf.predict(X_test_counts)"
   ]
  },
  {
   "cell_type": "code",
   "execution_count": 165,
   "metadata": {},
   "outputs": [
    {
     "name": "stdout",
     "output_type": "stream",
     "text": [
      "             precision    recall  f1-score   support\n",
      "\n",
      "         bg       1.00      1.00      1.00        83\n",
      "         cs       0.98      1.00      0.99       100\n",
      "         da       1.00      0.98      0.99        93\n",
      "         de       1.00      0.98      0.99       107\n",
      "         el       1.00      0.99      1.00       114\n",
      "         en       0.99      0.99      0.99        83\n",
      "         es       1.00      1.00      1.00       105\n",
      "         et       1.00      1.00      1.00        91\n",
      "         fi       1.00      1.00      1.00       108\n",
      "         fr       1.00      0.97      0.98        99\n",
      "         hu       1.00      0.97      0.98        99\n",
      "         it       1.00      0.96      0.98       109\n",
      "         lt       0.99      1.00      0.99        93\n",
      "         lv       0.98      0.99      0.99       103\n",
      "         nl       1.00      1.00      1.00       103\n",
      "         pl       0.89      1.00      0.94        85\n",
      "         pt       1.00      0.99      1.00       110\n",
      "         ro       1.00      1.00      1.00       115\n",
      "         sk       0.99      1.00      0.99        99\n",
      "         sl       0.98      0.98      0.98       101\n",
      "         sv       0.99      1.00      1.00       100\n",
      "\n",
      "avg / total       0.99      0.99      0.99      2100\n",
      "\n"
     ]
    }
   ],
   "source": [
    "from sklearn.metrics import classification_report\n",
    "\n",
    "print(classification_report(y_test, y_predicted_counts, target_names=df_small['language'].unique()))"
   ]
  },
  {
   "cell_type": "code",
   "execution_count": 166,
   "metadata": {},
   "outputs": [],
   "source": [
    "from sklearn.metrics import confusion_matrix\n",
    "cm = confusion_matrix(y_test, y_predicted_counts)"
   ]
  },
  {
   "cell_type": "code",
   "execution_count": 167,
   "metadata": {},
   "outputs": [],
   "source": [
    "percentage_matrix = 100*cm/cm.sum(axis=1).astype(float)"
   ]
  },
  {
   "cell_type": "code",
   "execution_count": 168,
   "metadata": {},
   "outputs": [
    {
     "data": {
      "image/png": "[encoded data removed]",
      "text/plain": [
       "<matplotlib.figure.Figure at 0x10c13ac18>"
      ]
     },
     "metadata": {},
     "output_type": "display_data"
    }
   ],
   "source": [
    "plt.figure(figsize=(15, 15))\n",
    "sns.heatmap(percentage_matrix, annot=True,  fmt='.2f', xticklabels=countries, yticklabels=countries);\n",
    "plt.title('Confusion Matrix for Languages');"
   ]
  },
  {
   "cell_type": "markdown",
   "metadata": {},
   "source": [
    "### Look at most important and less important words"
   ]
  },
  {
   "cell_type": "code",
   "execution_count": 185,
   "metadata": {},
   "outputs": [],
   "source": [
    "def get_most_important_features(vectorizer, model, n=5):\n",
    "    index_to_word = {v:k for k,v in vectorizer.vocabulary_.items()}\n",
    "    \n",
    "    # loop for each class\n",
    "    classes ={}\n",
    "    for class_index in range(model.coef_.shape[0]):\n",
    "        word_importances = [(el, index_to_word[i]) for i,el in enumerate(model.coef_[class_index])]\n",
    "        sorted_coeff = sorted(word_importances, key = lambda x : x[0], reverse=True)\n",
    "        tops = sorted(sorted_coeff[:n], key = lambda x : x[0])\n",
    "        bottom = sorted_coeff[-n:]\n",
    "        classes[class_index] = {\n",
    "                                'tops':tops,\n",
    "                                'bottom':bottom\n",
    "                                }\n",
    "    return classes\n",
    "\n",
    "importance = get_most_important_features(count_vectorizer, clf, n=20)"
   ]
  },
  {
   "cell_type": "code",
   "execution_count": 197,
   "metadata": {},
   "outputs": [
    {
     "name": "stdout",
     "output_type": "stream",
     "text": [
      "The top words are\n",
      "bg TOP WORDS: \n",
      "график следващите време че ред дневен откриване от петиции ще протоколи се заседанието протокола за да разискването приключи вж на\n",
      "\n",
      "\n",
      "cs TOP WORDS: \n",
      "na které žen jsou hlasování že orig překlad špatný ve rozprava této ukončena se byla pro zahájení viz zápis zasedání\n",
      "\n",
      "\n",
      "da TOP WORDS: \n",
      "afsluttet hermed forhandlingen følgende stemt at af kommissionen derfor kl afstemningen sted finder har andenbehandling indstilling ved og er ændringsforslag\n",
      "\n",
      "\n",
      "de TOP WORDS: \n",
      "ist sie stimmen für werden anhang standpunkt kommission artikel go schriftliche erklärungen änderungsanträge mehr der dagegen deshalb und wir die\n",
      "\n",
      "\n",
      "el TOP WORDS: \n",
      "να αποδεκτές δεύτερη ανάγνωση σύσταση στις έκθεση τη βλ συνοπτικά πρακτικά είναι για οι ψηφοφορία διεξαχθεί τροπολογίες και την θα\n",
      "\n",
      "\n",
      "en TOP WORDS: \n",
      "to this closed and is has of amendments we against voted for therefore recommendation second reading position annex commission the\n",
      "\n",
      "\n",
      "es TOP WORDS: \n",
      "segunda anexo del de posición lectura recomendación debate cierra que votado en rechazan las comisión más el la se enmiendas\n",
      "\n",
      "\n",
      "et TOP WORDS: \n",
      "hääletamine ning järgmisel päevakorrapunkt parlamendi mis neljapäeval lõppenud vaata protokolli arutelu hääletus protokoll vt toimub on et avamine osaistungjärgu ja\n",
      "\n",
      "\n",
      "fi TOP WORDS: \n",
      "hyväksyä päättynyt keskustelu vastaan tarkistukset voidaan tarkistusta liite kanta suositus käsittelyyn seuraavat että toiseen klo toimitetaan äänestys komission on ja\n",
      "\n",
      "\n",
      "fr TOP WORDS: \n",
      "de conséquent voté par clos débat sur suivants plus aura vote lieu pour nous est et la amendements les le\n",
      "\n",
      "\n",
      "hu TOP WORDS: \n",
      "működjünk változtatásnak megvalósításában együtt mellékletet napirend pont ennek csütörtökön szavazásra sor megnyitása ülés kerül jegyzőkönyvet következő hogy lásd az és\n",
      "\n",
      "\n",
      "it TOP WORDS: \n",
      "votazione scritte articolo dichiarazioni regolamento allegato posizione le di essere nn che chiusa emendamenti discussione del commissione della per la\n",
      "\n",
      "\n",
      "lt TOP WORDS: \n",
      "skirtas norėčiau klausimas šį ketvirtadienį dėl su balsavimas vyks yra kad kovo parlamento žr protokolą baigtos pradžia posėdžio diskusijos ir\n",
      "\n",
      "\n",
      "lv TOP WORDS: \n",
      "mēs eiropas šo mums šīs par ar balsojums lai ka slēgtas debates ceturtdien notiks ir atklāšana sēdes protokolu sk un\n",
      "\n",
      "\n",
      "nl TOP WORDS: \n",
      "plaats al bijlage standpunt ik van in aanbeveling tweede lezing is hebben gesloten voor om debat meer de commissie het\n",
      "\n",
      "\n",
      "pl TOP WORDS: \n",
      "jak zmiany debata nie oraz głosowanie odbędzie na że do kobiet tej jest protokół zamykam debatę otwarcie się posiedzenia patrz\n",
      "\n",
      "\n",
      "pt TOP WORDS: \n",
      "alterações que lugar terá às mais votação debate da do leitura recomendação voto contra para encerrado está daí as comissão\n",
      "\n",
      "\n",
      "ro TOP WORDS: \n",
      "este loc avea să pe va vedea consultaţi votarea și de în închisă dezbaterea ridicarea deschiderea fost verbal procesul şedinţei\n",
      "\n",
      "\n",
      "sk TOP WORDS: \n",
      "hlasovanie uskutoční tieto že som aby aj ktoré ide medzi ako sú je sme žien sa otvorenie pozri rokovania zápisnicu\n",
      "\n",
      "\n",
      "sl TOP WORDS: \n",
      "spremembe parlamenta gl so te končana ta ki da potekalo razprava bo je glej glasovanje in otvoritev seje zapisnik ter\n",
      "\n",
      "\n",
      "sv TOP WORDS: \n",
      "har vi följande ändringsförslag mer av jarzembowski röstade savary emot avslutad debatten bilaga ståndpunkt kommissionens därför att är och andrabehandlingsrekommendation\n",
      "\n",
      "\n"
     ]
    }
   ],
   "source": [
    "print('The top words are')\n",
    "all_top = []\n",
    "for i, lang in enumerate(countries): \n",
    "    top_words = [a[1] for a in importance[i]['tops']]\n",
    "    all_top += top_words\n",
    "    print(\"{} TOP WORDS: \".format(lang))\n",
    "    print(*top_words)\n",
    "    print('\\n')\n"
   ]
  },
  {
   "cell_type": "code",
   "execution_count": 198,
   "metadata": {},
   "outputs": [
    {
     "name": "stdout",
     "output_type": "stream",
     "text": [
      "The bottom words are\n",
      "bg BOTTOM WORDS: \n",
      "debate le şedinţei to die in ter do és savary jarzembowski je un se na on la ir ja de\n",
      "\n",
      "\n",
      "cs BOTTOM WORDS: \n",
      "bodom som şedinţei die savary da rechazan jarzembowski in és ter debate la sa enmiendas on un ir de ja\n",
      "\n",
      "\n",
      "da BOTTOM WORDS: \n",
      "se följande on ändringsförslag humankapitalet väl uttryck kommentarer inga ir mycket därför röstat ja jag la detta emot att och\n",
      "\n",
      "\n",
      "de BOTTOM WORDS: \n",
      "monaten nationalen seit regierungen meiner sicht währung erleben fähigkeit tegengestemd redenen wij la hebben ir al ja om de krise\n",
      "\n",
      "\n",
      "el BOTTOM WORDS: \n",
      "debate на le ter to és do in die andrabehandlingsrekommendation jarzembowski un je se na on ir la ja de\n",
      "\n",
      "\n",
      "en BOTTOM WORDS: \n",
      "ter der és encerrado está za die do le en un andrabehandlingsrekommendation et je ir na se ja la de\n",
      "\n",
      "\n",
      "es BOTTOM WORDS: \n",
      "os in leitura recomendação les chiusa pour discussione as pentru não com um să da je des et na do\n",
      "\n",
      "\n",
      "et BOTTOM WORDS: \n",
      "tämä hylkää voidaan jotka lisäksi se je un päättynyt eu keskustelu ir la de ovat sekä euroopan komissio että tarkistukset\n",
      "\n",
      "\n",
      "fi BOTTOM WORDS: \n",
      "kui na me la naiste selle mis ka ir hääletamine hääletusedjärgmine euroopa päevakorrapunkt nende de lõppenud see et ning arutelu\n",
      "\n",
      "\n",
      "fr BOTTOM WORDS: \n",
      "și savary se on kan commissie na chiusa să discussione voto segunda ir ja posición para anexo del in comisión\n",
      "\n",
      "\n",
      "hu BOTTOM WORDS: \n",
      "andrabehandlingsrekommendation to şedinţei на debate in die do ter savary jarzembowski je se un na on la ir de ja\n",
      "\n",
      "\n",
      "it BOTTOM WORDS: \n",
      "recommandation les segunda lecture que on pour na commission je enmiendas ir ja et en las comisión para jarzembowski de\n",
      "\n",
      "\n",
      "lt BOTTOM WORDS: \n",
      "na se no arī to on ekonomikas la lai tas par de tā eiropas mūsu ja ka un slēgtas debates\n",
      "\n",
      "\n",
      "lv BOTTOM WORDS: \n",
      "do în savary al jarzembowski debate dell una et che na in on da je le di se la de\n",
      "\n",
      "\n",
      "nl BOTTOM WORDS: \n",
      "altura vil eliminar restrições jeg essas ja în modo este şi for na har se un som plus que la\n",
      "\n",
      "\n",
      "pl BOTTOM WORDS: \n",
      "debate da andrabehandlingsrekommendation en die на şedinţei savary on jarzembowski je és ter la in un de se ir ja\n",
      "\n",
      "\n",
      "pt BOTTOM WORDS: \n",
      "commissie le on del to is ir in hayamos recomendación lectura je ja votado ahí los un el la en\n",
      "\n",
      "\n",
      "ro BOTTOM WORDS: \n",
      "aanvaarden amendementen do anexo comisión et savary in je on om jarzembowski ir kan ja na commissie plus en que\n",
      "\n",
      "\n",
      "sk BOTTOM WORDS: \n",
      "andrabehandlingsrekommendation této byla da die pro на şedinţei savary jarzembowski és ter in la on un de ja ir se\n",
      "\n",
      "\n",
      "sl BOTTOM WORDS: \n",
      "ženy pro der és we savary jarzembowski rozprava comissão the žien die un la le že on ir ja de\n",
      "\n",
      "\n",
      "sv BOTTOM WORDS: \n",
      "indstilling ved segunda para un die na je at se on ændringsforslag for imod stemt ir derfor og ja la\n",
      "\n",
      "\n"
     ]
    }
   ],
   "source": [
    "print('The bottom words are')\n",
    "all_bottom = []\n",
    "for i, lang in enumerate(countries): \n",
    "    bottom_words = [a[1] for a in importance[i]['bottom']]\n",
    "    all_bottom += bottom_words\n",
    "    print(\"{} BOTTOM WORDS: \".format(lang))\n",
    "    print(*bottom_words)\n",
    "    print('\\n')\n",
    "    "
   ]
  },
  {
   "cell_type": "code",
   "execution_count": 200,
   "metadata": {
    "scrolled": true
   },
   "outputs": [
    {
     "name": "stdout",
     "output_type": "stream",
     "text": [
      "Out of 420 of the top words, 397 are unique\n",
      "Out of 420 of the bottom words, 179 are unique\n"
     ]
    }
   ],
   "source": [
    "print(\"Out of {} of the top words, {} are unique\".format(len(countries)*20,len(set(all_top))))\n",
    "print(\"Out of {} of the bottom words, {} are unique\".format(len(countries)*20,len(set(all_bottom))))"
   ]
  },
  {
   "cell_type": "markdown",
   "metadata": {},
   "source": [
    "## Conclusions (Bag of Words Counts)\n",
    "\n",
    "With bag of words we can get rather good accuracy. We also see that our top words tend to be unique for that language, while for the bottom word there is a lot of duplicates.  \n",
    "\n",
    "However, generally languages have various prefixes, suffixes and other small word parts that are specific to them. For suffixes, \"-able\", \"-ness\", \"-s/tion\", \"-ist\" are very common. For prefixes, \"a-\", \"co-\", \"counter-\", \"ex-\", \"dis-\", \"mal-\", \"pre-\", \"under-\", \"up-\", \"re-\" and \"pro-\". With a word based tokenization we are not able to get these small language specific parts which are quite important for language detection."
   ]
  },
  {
   "cell_type": "markdown",
   "metadata": {},
   "source": [
    "### Vectorizer (2nd try)\n",
    "[TfidfVectorizer](http://scikit-learn.org/stable/modules/generated/sklearn.feature_extraction.text.TfidfVectorizer.html) - Equivalent to CountVectorizer followed by TfidfTransformer. \n",
    "\n",
    "The reason this might work better is because using tf-idf instead of the raw frequencies of occurrence of a token in a given document is to scale down the impact of tokens that occur very frequently in a given corpus and that are hence empirically less informative than features that occur in a small fraction of the training corpus. There might be some words that are present in most languages. Also, using n_gram could help us detect the small language specific parts mentioned above."
   ]
  },
  {
   "cell_type": "code",
   "execution_count": 175,
   "metadata": {
    "collapsed": true
   },
   "outputs": [],
   "source": [
    "from sklearn.feature_extraction.text import TfidfVectorizer \n",
    "\n",
    "\n",
    "def cv(data):\n",
    "    vectorizer = TfidfVectorizer(ngram_range=(1, 6),analyzer='char') #Use n_grams\n",
    "    emb = vectorizer.fit_transform(data)\n",
    "\n",
    "    return emb, vectorizer\n",
    "\n",
    "X_train_vect, vectorizer = cv(X_train)\n",
    "X_test_vect = vectorizer.transform(X_test)"
   ]
  },
  {
   "cell_type": "markdown",
   "metadata": {},
   "source": [
    "### Logistic classifier"
   ]
  },
  {
   "cell_type": "code",
   "execution_count": 176,
   "metadata": {},
   "outputs": [],
   "source": [
    "clf_vect = LogisticRegression(C=30.0, class_weight='balanced', solver='newton-cg', \n",
    "                         multi_class='multinomial', n_jobs=-1, random_state=40)\n",
    "\n",
    "clf_vect.fit(X_train_vect, y_train)\n",
    "\n",
    "y_predicted_vect = clf_vect.predict(X_test_vect)"
   ]
  },
  {
   "cell_type": "code",
   "execution_count": 177,
   "metadata": {
    "collapsed": true
   },
   "outputs": [],
   "source": [
    "cm_vect = confusion_matrix(y_test, y_predicted_vect)\n",
    "percentage_matrix_vect = 100*cm_vect/cm_vect.sum(axis=1).astype(float)"
   ]
  },
  {
   "cell_type": "code",
   "execution_count": 178,
   "metadata": {
    "scrolled": true
   },
   "outputs": [
    {
     "data": {
      "image/png": "[encoded data removed]",
      "text/plain": [
       "<matplotlib.figure.Figure at 0x10bc0b4a8>"
      ]
     },
     "metadata": {},
     "output_type": "display_data"
    }
   ],
   "source": [
    "plt.figure(figsize=(15, 15))\n",
    "sns.heatmap(percentage_matrix_vect, annot=True,  fmt='.2f', xticklabels=countries, yticklabels=countries);\n",
    "plt.title('Confusion Matrix for Languages');"
   ]
  },
  {
   "cell_type": "code",
   "execution_count": 201,
   "metadata": {
    "collapsed": true
   },
   "outputs": [],
   "source": [
    "importance_vec = get_most_important_features(vectorizer, clf_vect, n=20)"
   ]
  },
  {
   "cell_type": "code",
   "execution_count": 207,
   "metadata": {},
   "outputs": [
    {
     "name": "stdout",
     "output_type": "stream",
     "text": [
      "bg TOP WORDS: \n",
      "то на з м  п е  л п к д а  с в р т н и о е а\n",
      "bg BOTTOM WORDS: \n",
      ", , , p  , ,  , ,   , , , , k u m d l   r s t n o i a e\n",
      "\n",
      "\n",
      "cs TOP WORDS: \n",
      "é  z že v ý ně ě  ž  př př ře ů a ní  á ní í  ř ě í\n",
      "cs BOTTOM WORDS: \n",
      ", , n  ó et ä a  w ľ ť  ú s  ia re s g ie ť e r i\n",
      "\n",
      "\n",
      "da TOP WORDS: \n",
      "er  fo r d fo og  r   for å er   og   at  f  og for g  g e ø æ\n",
      "da BOTTOM WORDS: \n",
      "ei p fö  w o é ör s  i ie ch o  ö w z u a  ä c a\n",
      "\n",
      "\n",
      "de TOP WORDS: \n",
      "ü en  der en  der   die  ie  sch ge w ich ei  die n die  die ung h ch e\n",
      "de BOTTOM WORDS: \n",
      "co l é    c k  p  t i   de  o   o de  y j p v a  a o\n",
      "\n",
      "\n",
      "el TOP WORDS: \n",
      "μ η  λ α  υ  τ ί ς  κ ς σ ρ ν η π ι τ ο ε α\n",
      "el BOTTOM WORDS: \n",
      "en g c v p e  u   k l m d r s o t n i a e\n",
      "\n",
      "\n",
      "en TOP WORDS: \n",
      "and   to     of  d  of   w  and   t t he h w  the  he   the the  the  th th\n",
      "en BOTTOM WORDS: \n",
      "d ie  de  á  k en  de   de v é i  ä u j de a  d z a  k\n",
      "\n",
      "\n",
      "es TOP WORDS: \n",
      " y  e que   el e s   la   l  y  el   la ión  ón  os  c ue ió  el  ón ión\n",
      "es BOTTOM WORDS: \n",
      "g ä w ai z  e   o ão  ç é m  ss v i  ão ã t  i t k\n",
      "\n",
      "\n",
      "et TOP WORDS: \n",
      "use  ja   on  a ee õi ü ii e d  us j l se k oo s u ja õ\n",
      "et BOTTOM WORDS: \n",
      "w ā ie ä  é á er r  en  n  en  d o  o   z y n c r\n",
      "\n",
      "\n",
      "fi TOP WORDS: \n",
      "ks än aan is n s tä  ta i ää tt y oi k aa n  tä ä  t ä\n",
      "fi BOTTOM WORDS: \n",
      "o  p d  re õ f á nd r   d b z s  c e  e g d   r\n",
      "\n",
      "\n",
      "fr TOP WORDS: \n",
      " les  qu q ement  à  à  les les  t   le nt  es  u e  ou  l e ’ s  é\n",
      "fr BOTTOM WORDS: \n",
      " o as ă i   k th os  y i á o w ä h a  z g o  k a\n",
      "\n",
      "\n",
      "hu TOP WORDS: \n",
      "az  az kö g y  az ás ó  a  l ö k  gy k ő sz és z á é\n",
      "hu BOTTOM WORDS: \n",
      ", ,   , , , , r  de  p ie w st  d ä c o  p d r e  u o i\n",
      "\n",
      "\n",
      "it TOP WORDS: \n",
      "to  co azi one c che  azion azio l di  ione  di  one  zion zio ione  o  o i i \n",
      "it BOTTOM WORDS: \n",
      "d r  n   k u os  ă en  á ä w é  de  y de  s t  j s  k\n",
      "\n",
      "\n",
      "lt TOP WORDS: \n",
      "ū ių  ir  ir  ž š r s os  ai au k ą į s  ir i ų  ų ė\n",
      "lt BOTTOM WORDS: \n",
      " o  c w é   ē de l ī á a  ä n  n h e  z c ā e\n",
      "\n",
      "\n",
      "lv TOP WORDS: \n",
      "um  un  jum āt  ir  s u  as  nā š ā  īb s  tā ie un u ē ī ā\n",
      "lv BOTTOM WORDS: \n",
      "c er  , , , , , ,  , , , w  , ,  l , ,   , , , , é á ä   h y e  o e\n",
      "\n",
      "\n",
      "nl TOP WORDS: \n",
      "n d  het   het oo het  van   van  de   he w het  ee n de  ij en en  n  aa e\n",
      "nl BOTTOM WORDS: \n",
      "å i á l  s  f f p  p c é r o  y i  ä a a  u s\n",
      "\n",
      "\n",
      "pl TOP WORDS: \n",
      "dz c wa ś nie rz ą w  zy ż ie ow  w cz ę ł y z i w\n",
      "pl BOTTOM WORDS: \n",
      "ä ž u r  ir í ti é  a r  v n  s    á t s e l v\n",
      "\n",
      "\n",
      "pt TOP WORDS: \n",
      " o  as  açã ação ção  co os  e  çã ção os  s s  aç o ão  ç o  ão ã\n",
      "pt BOTTOM WORDS: \n",
      " k  el  y  z la   la  la  en  j t ie  l t  i  y i n  l k n\n",
      "\n",
      "\n",
      "ro TOP WORDS: \n",
      "i e are  c ul în  ți u ș ea  în ea  c în ţ ț  î î ă  ă\n",
      "ro BOTTOM WORDS: \n",
      " , ,  , ,   , , , , et  k en  ä á w é j y g h o  s  o s k\n",
      "\n",
      "\n",
      "sk TOP WORDS: \n",
      " kto ie ej  j  ať ô ú   sa  č ov ž v ľ o ť  a ý á ú ť\n",
      "sk BOTTOM WORDS: \n",
      " př ja er r  př ře se ů n  s i l s  t  w t g e ř ě\n",
      "\n",
      "\n",
      "sl TOP WORDS: \n",
      ", da  v  za  z  in  te  za je  lj anj o  ih v ih  je o č nj ter j\n",
      "sl BOTTOM WORDS: \n",
      " c  a  t  f ia y  ch ý ä s w é s  ie  a í u y c á\n",
      "\n",
      "\n",
      "sv TOP WORDS: \n",
      "tt att och   oc  att är  och t  och   fö  att  r att  tt  för ör fö å ä ö\n",
      "sv BOTTOM WORDS: \n",
      "s  co p aa  p  c ø c é æ w ie á o  z o u e  i e\n",
      "\n",
      "\n"
     ]
    }
   ],
   "source": [
    "all_top_vec = []\n",
    "all_bottom_vec = []\n",
    "\n",
    "for i, lang in enumerate(countries): \n",
    "    top_words_vec = [a[1] for a in importance_vec[i]['tops']]\n",
    "    bottom_words_vec = [a[1] for a in importance_vec[i]['bottom']]\n",
    "    \n",
    "    print(\"{} TOP WORDS: \".format(lang))\n",
    "    print(*top_words_vec)\n",
    "    print(\"{} BOTTOM WORDS: \".format(lang))\n",
    "    print(*bottom_words_vec)\n",
    "    print('\\n')\n",
    "    \n",
    "    all_top_vec += top_words_vec\n",
    "    all_bottom_vec += bottom_words_vec\n"
   ]
  },
  {
   "cell_type": "code",
   "execution_count": 204,
   "metadata": {},
   "outputs": [
    {
     "name": "stdout",
     "output_type": "stream",
     "text": [
      "Out of 420 of the top words, 335 are unique\n",
      "Out of 420 of the bottom words, 120 are unique\n"
     ]
    }
   ],
   "source": [
    "print(\"Out of {} of the top words, {} are unique\".format(len(countries)*20,len(set(all_top_vec))))\n",
    "print(\"Out of {} of the bottom words, {} are unique\".format(len(countries)*20,len(set(all_bottom_vec))))"
   ]
  },
  {
   "cell_type": "markdown",
   "metadata": {},
   "source": [
    "## Conclusions (Vectorizer )\n",
    "We see that instead of classifying whole words, the classifier now looks at certain special characters and their combinations that tend to be unique for that language. This should be more robust, considering we otherwise would have to include a huge amount of words, as the classifier would have trouble with words it had not seen before. As would happen for the bag of words classfier. "
   ]
  },
  {
   "cell_type": "code",
   "execution_count": 210,
   "metadata": {},
   "outputs": [
    {
     "data": {
      "text/plain": [
       "['./Models/logistic_n_gram.pkl']"
      ]
     },
     "execution_count": 210,
     "metadata": {},
     "output_type": "execute_result"
    }
   ],
   "source": [
    "from sklearn.externals import joblib\n",
    "joblib.dump(clf, './Models/logistic_bag.pkl') \n",
    "joblib.dump(clf_vect, './Models/logistic_n_gram.pkl') "
   ]
  },
  {
   "cell_type": "code",
   "execution_count": 212,
   "metadata": {},
   "outputs": [],
   "source": [
    "import io\n",
    "f = io.open(\"europarl.test\", mode=\"r\", encoding=\"utf-8\")"
   ]
  },
  {
   "cell_type": "code",
   "execution_count": 216,
   "metadata": {},
   "outputs": [
    {
     "data": {
      "text/plain": [
       "<_io.TextIOWrapper name='europarl.test' mode='r' encoding='utf-8'>"
      ]
     },
     "execution_count": 216,
     "metadata": {},
     "output_type": "execute_result"
    }
   ],
   "source": [
    "f"
   ]
  }
 ],
 "metadata": {
  "kernelspec": {
   "display_name": "Python 3",
   "language": "python",
   "name": "python3"
  },
  "language_info": {
   "codemirror_mode": {
    "name": "ipython",
    "version": 3
   },
   "file_extension": ".py",
   "mimetype": "text/x-python",
   "name": "python",
   "nbconvert_exporter": "python",
   "pygments_lexer": "ipython3",
   "version": "3.6.3"
  }
 },
 "nbformat": 4,
 "nbformat_minor": 2
}
